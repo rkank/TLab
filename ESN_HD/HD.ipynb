{
 "cells": [
  {
   "cell_type": "code",
   "execution_count": 1,
   "metadata": {
    "collapsed": true
   },
   "outputs": [],
   "source": [
    "import torch\n",
    "from torch.utils.data import Dataset, DataLoader, SubsetRandomSampler\n",
    "from torchvision import datasets, transforms\n",
    "from echotorch.nn import ESN, LiESN\n",
    "import numpy as np\n",
    "from scipy.special import softmax\n",
    "from tqdm.notebook import tqdm, trange\n",
    "import matplotlib.pyplot as plt\n",
    "from matplotlib import animation\n",
    "from operator import itemgetter\n",
    "\n",
    "device = torch.device(\"cuda:0\" if torch.cuda.is_available() else \"cpu\")"
   ]
  },
  {
   "cell_type": "code",
   "execution_count": 39,
   "outputs": [
    {
     "name": "stdout",
     "output_type": "stream",
     "text": [
      "('COUNTRY', 0.248)\n",
      "('MEXICO', 0.358)\n"
     ]
    }
   ],
   "source": [
    "from hdc import Space\n",
    "\n",
    "s = Space(rep='bsc')\n",
    "U = s.add('USA')\n",
    "D = s.add('DOLLAR')\n",
    "M = s.add('MEXICO')\n",
    "P = s.add('PESOS')\n",
    "\n",
    "X = s.add('COUNTRY')\n",
    "Y = s.add('CURRENCY')\n",
    "\n",
    "A = X * U + Y * D\n",
    "B = X * M + Y * P\n",
    "\n",
    "ctr = U * A\n",
    "mex = (U * A) * B\n",
    "print(s.find(ctr))\n",
    "print(s.find(mex))"
   ],
   "metadata": {
    "collapsed": false,
    "pycharm": {
     "name": "#%%\n"
    }
   }
  },
  {
   "cell_type": "code",
   "execution_count": 170,
   "outputs": [
    {
     "name": "stdout",
     "output_type": "stream",
     "text": [
      "('G_ac', 0.220656899635419)\n"
     ]
    }
   ],
   "source": [
    "sp = Space(rep='bsd')\n",
    "\n",
    "X = sp.add('X')\n",
    "Y = sp.add('Y')\n",
    "Z = sp.add('Z')\n",
    "A = sp.add('A')\n",
    "B = sp.add('B')\n",
    "C = sp.add('C')\n",
    "U = sp.add('U')\n",
    "V = sp.add('V')\n",
    "W = sp.add('W')\n",
    "\n",
    "# M = sp.add('MOTHER')\n",
    "M1 = sp.add('M1')\n",
    "M2 = sp.add('M2')\n",
    "# F = sp.add('FATHER')\n",
    "F1 = sp.add('F1')\n",
    "F2 = sp.add('F2')\n",
    "# G = sp.add('GRANDMOTHER')\n",
    "G1 = sp.add('G1')\n",
    "G2 = sp.add('G2')\n",
    "\n",
    "M_xy = M1 * X + M2 * Y\n",
    "F_yz = F1 * Y + F2 * Z\n",
    "G_xz = G1 * X + G2 * Z\n",
    "\n",
    "M_uv = M1 * U + M2 * V\n",
    "F_vw = F1 * V + F2 * W\n",
    "G_uw = G1 * U + G2 * W\n",
    "\n",
    "R_xyz = G_xz * (M_xy + F_yz)\n",
    "R_uvw = G_uw * (M_uv + F_vw)\n",
    "R = R_xyz + R_uvw\n",
    "\n",
    "M_ab = M1 * A + M2 * B\n",
    "F_bc = F1 * B + F2 * C\n",
    "G_ac = G1 * A + G2 * C\n",
    "\n",
    "sp.insert(G_ac, 'G_ac')\n",
    "\n",
    "print(sp.find(R * (M_ab + F_bc)))"
   ],
   "metadata": {
    "collapsed": false,
    "pycharm": {
     "name": "#%%\n"
    }
   }
  }
 ],
 "metadata": {
  "kernelspec": {
   "display_name": "Python 3",
   "language": "python",
   "name": "python3"
  },
  "language_info": {
   "codemirror_mode": {
    "name": "ipython",
    "version": 2
   },
   "file_extension": ".py",
   "mimetype": "text/x-python",
   "name": "python",
   "nbconvert_exporter": "python",
   "pygments_lexer": "ipython2",
   "version": "2.7.6"
  }
 },
 "nbformat": 4,
 "nbformat_minor": 0
}