{
 "cells": [
  {
   "cell_type": "code",
   "execution_count": 2,
   "outputs": [
    {
     "name": "stdout",
     "output_type": "stream",
     "text": [
      "cuda:0\n",
      "Epoch    13: reducing learning rate of group 0 to 1.0000e-03.\n",
      "Epoch    27: reducing learning rate of group 0 to 1.0000e-04.\n",
      "Epoch    45: reducing learning rate of group 0 to 1.0000e-05.\n",
      "Epoch    61: reducing learning rate of group 0 to 1.0000e-06.\n",
      "Epoch    79: reducing learning rate of group 0 to 1.0000e-07.\n",
      "Epoch    90: reducing learning rate of group 0 to 1.0000e-08.\n",
      "\n"
     ]
    },
    {
     "data": {
      "text/plain": "HBox(children=(FloatProgress(value=0.0, max=1500.0), HTML(value='')))",
      "application/vnd.jupyter.widget-view+json": {
       "version_major": 2,
       "version_minor": 0,
       "model_id": "16f708ed428d4c3f9be1f9bb6101a089"
      }
     },
     "metadata": {},
     "output_type": "display_data"
    }
   ],
   "source": [
    "import numpy as np\n",
    "from sklearn.preprocessing import MinMaxScaler\n",
    "import pandas as pd\n",
    "import matplotlib.pyplot as plt\n",
    "%matplotlib inline\n",
    "import seaborn as sns\n",
    "\n",
    "import time\n",
    "import os\n",
    "\n",
    "import torch\n",
    "from torch.utils.data import Dataset, DataLoader\n",
    "import torch.utils.data as utils\n",
    "\n",
    "from tqdm.notebook import tqdm, trange\n",
    "\n",
    "# set random seeds for reproducibility\n",
    "# torch.manual_seed(0)\n",
    "# np.random.seed(0)\n",
    "\n",
    "import torch.nn as nn\n",
    "from torch.autograd import Variable\n",
    "from torch.nn import functional as F\n",
    "import torch.optim as optim\n",
    "\n",
    "from numpy import linalg as LA\n",
    "from scipy.sparse import random as sparserand\n",
    "\n",
    "\n",
    "\n",
    "# Setup the ability to run on a GPU\n",
    "device = torch.device(\"cuda:0\" if torch.cuda.is_available() else \"cpu\")\n",
    "# Assuming that we are on a CUDA machine, this should print a CUDA device:\n",
    "print(device)\n",
    "\n",
    "\n",
    "def create_reservoir_matrix(size=(10,10), spectral_radius=0.9, sparsity=0.5):\n",
    "    \"\"\" Creates the W_res of the ESN which has the ESP\n",
    "    inputs: \n",
    "    size: square matrix representing the size of teh reservoir connections\n",
    "    spectral_radius: largest eigenvalue in reservoir matrix should be <1\n",
    "    sparsity: connectivity of matrix, 1.0 indicates full connection \n",
    "    \"\"\"\n",
    "    # generate uniformly random from U[0,1] *2 -1 makes it U[-1,1]\n",
    "    W_res = torch.rand(size)#*2-1\n",
    "\n",
    "    # create a sparse mask array then multiply reservoir weights by sparse mask\n",
    "    # sparse mask is done by generating uniform[0,1] then setting True <=sparsity\n",
    "    W_res = W_res*(torch.rand_like(W_res) <= sparsity).type(W_res.dtype)\n",
    "    \n",
    "    # scale the matrix to have the desired spectral radius\n",
    "    W_res = W_res*spectral_radius/(np.max(np.abs(np.linalg.eigvals(W_res))))\n",
    "\n",
    "    return W_res.float()\n",
    "\n",
    "\n",
    "def create_sparse_connection_matrix(size=(10,10),spectral_radius=0.9, sparsity=0.5):\n",
    "  \"\"\" Creates a sparse matrix using a different library which is not probabilistic\n",
    "  and so should have a better consistency for small networks \n",
    "  returns a numpy array\"\"\"\n",
    "  matrix = sparserand(size[0],size[1], density=sparsity)\n",
    "  matrix = matrix.A*2-1 # shift from U[0,1] to U[-1,1]\n",
    "\n",
    "  max_eigval = max(abs(LA.eigvals(matrix.A)))\n",
    "  if max_eigval == 0:\n",
    "    # checks for an entirely sparse matrix\n",
    "    return matrix.A\n",
    "\n",
    "  else:\n",
    "    matrix = spectral_radius*matrix.A/max_eigval\n",
    "    return matrix\n",
    "\n",
    "class Reservoir(nn.Module):\n",
    "\tdef __init__(self, n_hidden):\n",
    "\t\tsuper(Reservoir, self).__init__()\n",
    "\t\tself.h = torch.rand((n_hidden, 1))\n",
    "\t\tself.W_res = create_reservoir_matrix(size=(n_hidden, n_hidden), spectral_radius=0.95, sparsity=0.05)\n",
    "\n",
    "\t\tself.W_res.requires_grad = False\n",
    "\n",
    "\tdef forward(self):\n",
    "\t\t# self.h = torch.tanh(torch.mm(self.W_res, self.h))\n",
    "\t\tself.h = torch.tanh(torch.mm(self.W_res, self.h))\n",
    "\t\toutput = torch.tanh(torch.mm(self.W_res, self.h))\n",
    "\t\treturn output.transpose_(0, 1)\n",
    "\n",
    "class ESN(nn.Module):\n",
    "    def __init__(self, input_size, n_hidden):\n",
    "        super(ESN, self).__init__()\n",
    "        self.input_size = input_size\n",
    "        self.n_hidden = n_hidden\n",
    "\n",
    "        self.W_in = nn.Linear(input_size, n_hidden)\n",
    "        self.W_res = Reservoir(n_hidden)\n",
    "        self.W_readout = nn.Linear(n_hidden, 1)\n",
    "\n",
    "        self.W_in.weight.requires_grad = False\n",
    "        self.W_in.bias.requires_grad = False\n",
    "\n",
    "    def forward(self, input):\n",
    "\t    o_input = self.W_in(input).to(device)\n",
    "\t    o_res = self.W_res().to(device)\n",
    "\t    output = o_input + o_res\n",
    "\t    output = self.W_readout(output).to(device)\n",
    "\n",
    "\t    return output.flatten()\n",
    "\n",
    "\n",
    "class MultDataset(Dataset):\n",
    "\tdef __init__(self, size):\n",
    "\t\tself.size = size\n",
    "\t\tself.data = np.random.randint(1, 100, size=(size,2))\n",
    "\t\tscaler = MinMaxScaler()\n",
    "\t\tself.data = scaler.fit_transform(self.data)\n",
    "\t\tself.data = np.hstack((self.data, np.multiply(self.data[:, 0], self.data[:, 1]).reshape((size, 1))))\n",
    "\t\t\n",
    "\tdef __len__(self):\n",
    "\t\treturn self.size\n",
    "\t\n",
    "\tdef __getitem__(self, item):\n",
    "\t\tif torch.is_tensor(item):\n",
    "\t\t\titem = item.tolist()\n",
    "\t\t\t\n",
    "\t\treturn torch.from_numpy(self.data[item, :2]), torch.from_numpy(np.asarray(self.data[item, 2]))\n",
    "\n",
    "\n",
    "class ANDDataset(Dataset):\n",
    "\tdef __init__(self):\n",
    "\t\tself.data = np.asarray([[0, 0, 0], [0, 1, 0], [1, 0, 0], [1, 1, 1]])\n",
    "\n",
    "\tdef __len__(self):\n",
    "\t\treturn 4\n",
    "\n",
    "\tdef __getitem__(self, item):\n",
    "\t\tif torch.is_tensor(item):\n",
    "\t\t\titem = item.tolist()\n",
    "\n",
    "\t\treturn torch.from_numpy(self.data[item, :2]), torch.from_numpy(np.asarray(self.data[item, 2]))\n",
    "\n",
    "\n",
    "# torch.manual_seed(0)\n",
    "# np.random.seed(0)\n",
    "\n",
    "LEARN_TIME = 40\n",
    "READOUT_TIME = 5\n",
    "\n",
    "# Hyper Parameters \n",
    "num_epochs = 1500\n",
    "batch_size_train = 100\n",
    "batch_size_val = 100\n",
    "batch_size_test = 10\n",
    "learning_rate = 0.01\n",
    "weight_decay = 0.01\n",
    "dataset_size = 10000\n",
    "\n",
    "# input parameters\n",
    "input_size = 2\n",
    "\n",
    "# Hyper-parameters\n",
    "n_hidden = 150\n",
    "\n",
    "model = ESN(input_size, n_hidden)\n",
    "\n",
    "saved_res = model.W_res.W_res\n",
    "saved_in = model.W_in\n",
    "\n",
    "test_dataset = MultDataset(10)\n",
    "train_dataset, val_dataset = torch.utils.data.random_split(MultDataset(dataset_size), (int(0.9*dataset_size), int(0.1*dataset_size)))\n",
    "\n",
    "train_loader = torch.utils.data.DataLoader(dataset=train_dataset, batch_size=batch_size_train, shuffle=True)\n",
    "val_loader = torch.utils.data.DataLoader(dataset=val_dataset, batch_size=batch_size_val, shuffle=True)\n",
    "test_loader = torch.utils.data.DataLoader(dataset=test_dataset, batch_size=1, shuffle=False)\n",
    "\n",
    "# move to the GPU\n",
    "model.to(device)\n",
    "\n",
    "optimizer = optim.Adam(model.W_readout.parameters(), lr=learning_rate)\n",
    "scheduler = optim.lr_scheduler.ReduceLROnPlateau(optimizer, 'min', verbose=True)\n",
    "\n",
    "mse = nn.MSELoss()\n",
    "\n",
    "epoch_train_losses = []\n",
    "epoch_val_losses = []\n",
    "old = 0\n",
    "\n",
    "learned = []\n",
    "\n",
    "for epoch in trange(num_epochs):\n",
    "\ttrain_losses = 0\n",
    "\tval_losses = 0\n",
    "\tnum_steps = 0\n",
    "\tmodel.train()\n",
    "\n",
    "\tfor i, (inputs, labels) in enumerate(train_loader):\n",
    "\t\t# inputs = inputs.view(1, input_size)\n",
    "\t\tnp_inputs = inputs.numpy()\n",
    "\t\tnp_labels = labels.numpy()\n",
    "\t\tinputs = inputs.float()\n",
    "\t\tinputs = inputs.to(device)\n",
    "\t\tlabels = labels.float().to(device)\n",
    "\n",
    "\t\toptimizer.zero_grad()\n",
    "\n",
    "\t\tfor learn in range(LEARN_TIME):\n",
    "\t\t\toutput = model(inputs).flatten()\n",
    "\t\t\t# print(torch.sum(output - old))\n",
    "\t\t\t# learned.append(torch.sum(output - old))\n",
    "\t\t\told = output\n",
    "\n",
    "\t\toutputs = 0\n",
    "\t\tfor read in range(READOUT_TIME):\n",
    "\t\t\toutput = model(inputs).flatten()\n",
    "\t\t\t# print(torch.sum(output))\n",
    "\t\t\toutputs += output\n",
    "\t\toutputs = outputs / READOUT_TIME\n",
    "\n",
    "\t\tbatch_train_loss = mse(outputs, labels) / batch_size_train\n",
    "\t\ttrain_losses += batch_train_loss.item()\n",
    "\t\t\n",
    "\t\tbatch_train_loss.backward()\n",
    "\n",
    "\t\toptimizer.step()\n",
    "\n",
    "\t\tnum_steps += 1\n",
    "\n",
    "\tscheduler.step(train_losses/num_steps)\n",
    "\n",
    "\tepoch_train_losses.append(train_losses/num_steps)\n",
    "\n",
    "\n",
    "\tnum_steps = 0\n",
    "\tmodel.eval()\n",
    "\tfor i, (inputs, labels) in enumerate(val_loader):\n",
    "\t\tinputs = inputs.float()\n",
    "\t\tinputs = inputs.to(device)\n",
    "\t\tlabels = labels.float().to(device)\n",
    "\n",
    "\t\tfor learn in range(LEARN_TIME):\n",
    "\t\t\toutput = model(inputs).flatten()\n",
    "\n",
    "\t\toutputs = 0\n",
    "\t\tfor read in range(READOUT_TIME):\n",
    "\t\t\toutput = model(inputs).flatten()\n",
    "\t\t\toutputs += output\n",
    "\t\toutputs = outputs / READOUT_TIME\n",
    "\n",
    "\t\tbatch_val_loss = mse(outputs, labels) / batch_size_val\n",
    "\t\tval_losses += batch_val_loss.item()\n",
    "\n",
    "\t\tnum_steps += 1\n",
    "\n",
    "\tepoch_val_losses.append(val_losses/num_steps)"
   ],
   "metadata": {
    "collapsed": false,
    "pycharm": {
     "name": "#%%\n"
    }
   }
  },
  {
   "cell_type": "code",
   "execution_count": null,
   "outputs": [],
   "source": [
    "# plt.plot(learned)"
   ],
   "metadata": {
    "collapsed": false,
    "pycharm": {
     "name": "#%%\n"
    }
   }
  },
  {
   "cell_type": "code",
   "execution_count": null,
   "outputs": [],
   "source": [
    "plt.plot(epoch_train_losses, color='blue')\n",
    "print(sum(epoch_train_losses[-10:])/10)"
   ],
   "metadata": {
    "collapsed": false,
    "pycharm": {
     "name": "#%%\n"
    }
   }
  },
  {
   "cell_type": "code",
   "execution_count": null,
   "outputs": [],
   "source": [
    "plt.plot(epoch_val_losses, color='orange')"
   ],
   "metadata": {
    "collapsed": false,
    "pycharm": {
     "name": "#%%\n"
    }
   }
  },
  {
   "cell_type": "code",
   "execution_count": null,
   "outputs": [],
   "source": [
    "for i, (inputs, labels) in enumerate(test_loader):\n",
    "\tinputs = inputs.float().to(device)\n",
    "\tlabels = labels.float().to(device)\n",
    "\n",
    "\tfor learn in range(LEARN_TIME):\n",
    "\t\toutput = model(inputs).flatten()\n",
    "\n",
    "\t\toutputs = 0\n",
    "\t\tfor read in range(READOUT_TIME):\n",
    "\t\t\toutput = model(inputs).flatten()\n",
    "\t\t\t# print(output)\n",
    "\t\t\toutputs += output.item()\n",
    "\t\toutputs = outputs / READOUT_TIME\n",
    "\n",
    "\tprint(inputs, round(outputs, 2), '\\t', labels.item(), round(np.square(outputs - labels.item()), 5))"
   ],
   "metadata": {
    "collapsed": false,
    "pycharm": {
     "name": "#%%\n"
    }
   }
  },
  {
   "cell_type": "code",
   "execution_count": null,
   "outputs": [],
   "source": [
    "print(torch.sum(model.W_res.W_res - saved_res))\n",
    "print(torch.sum(model.W_in.weight - saved_in.weight))"
   ],
   "metadata": {
    "collapsed": false,
    "pycharm": {
     "name": "#%%\n"
    }
   }
  },
  {
   "cell_type": "code",
   "execution_count": null,
   "outputs": [],
   "source": [
    "# for i, (inputs, labels) in enumerate(train_loader):\n",
    "# \tinputs = inputs.float().to(device)\n",
    "# \tlabels = labels.float().to(device)\n",
    "#\n",
    "# \tfor learn in range(LEARN_TIME):\n",
    "# \t\toutput = model(inputs).flatten()\n",
    "#\n",
    "# \t\toutputs = 0\n",
    "# \t\tfor read in range(READOUT_TIME):\n",
    "# \t\t\toutput = model(inputs).flatten()\n",
    "# \t\t\t# print(output)\n",
    "# \t\t\toutputs += output\n",
    "# \t\toutputs = outputs / READOUT_TIME\n",
    "#\n",
    "# \tprint(inputs, outputs.item(), labels.item())"
   ],
   "metadata": {
    "collapsed": false,
    "pycharm": {
     "name": "#%%\n"
    }
   }
  },
  {
   "cell_type": "code",
   "execution_count": 3,
   "outputs": [],
   "source": [
    "# for i, (inputs, labels) in enumerate(train_loader):\n",
    "# \tinputs = inputs.float().to(device)\n",
    "# \tlabels = labels.float().to(device)\n",
    "#\n",
    "# \tfor learn in range(LEARN_TIME):\n",
    "# \t\toutput = model(inputs).flatten()\n",
    "#\n",
    "# \t\toutputs = 0\n",
    "# \t\tfor read in range(READOUT_TIME):\n",
    "# \t\t\toutput = model(inputs).flatten()\n",
    "# \t\t\t# print(output)\n",
    "# \t\t\toutputs += output\n",
    "# \t\toutputs = outputs / READOUT_TIME\n",
    "#\n",
    "# \tprint(inputs, outputs.item(), labels.item())"
   ],
   "metadata": {
    "collapsed": false,
    "pycharm": {
     "name": "#%%\n"
    }
   }
  },
  {
   "cell_type": "code",
   "execution_count": 4,
   "outputs": [
    {
     "name": "stdout",
     "output_type": "stream",
     "text": [
      "7.168538042606088e-05\n"
     ]
    },
    {
     "data": {
      "text/plain": "<Figure size 432x288 with 1 Axes>",
      "image/png": "[encoded data removed]"
     },
     "metadata": {
      "needs_background": "light"
     },
     "output_type": "display_data"
    }
   ],
   "source": [
    "plt.plot(epoch_train_losses, color='blue')\n",
    "print(sum(epoch_train_losses[-10:])/10)"
   ],
   "metadata": {
    "collapsed": false,
    "pycharm": {
     "name": "#%%\n"
    }
   }
  },
  {
   "cell_type": "code",
   "execution_count": 5,
   "outputs": [
    {
     "data": {
      "text/plain": "[<matplotlib.lines.Line2D at 0x252a34d4e48>]"
     },
     "execution_count": 5,
     "metadata": {},
     "output_type": "execute_result"
    },
    {
     "data": {
      "text/plain": "<Figure size 432x288 with 1 Axes>",
      "image/png": "[encoded data removed]"
     },
     "metadata": {
      "needs_background": "light"
     },
     "output_type": "display_data"
    }
   ],
   "source": [
    "plt.plot(epoch_val_losses, color='orange')"
   ],
   "metadata": {
    "collapsed": false,
    "pycharm": {
     "name": "#%%\n"
    }
   }
  },
  {
   "cell_type": "code",
   "execution_count": 9,
   "outputs": [
    {
     "name": "stdout",
     "output_type": "stream",
     "text": [
      "tensor([[0.9123, 0.5412]], device='cuda:0') 0.48 \t 0.4937048554420471 0.00021\n",
      "tensor([[0.7895, 0.6706]], device='cuda:0') 0.48 \t 0.529411792755127 0.00233\n",
      "tensor([[0.2807, 0.0353]], device='cuda:0') -0.09 \t 0.00990712083876133 0.00941\n",
      "tensor([[0.1053, 1.0000]], device='cuda:0') 0.3 \t 0.10526315867900848 0.0377\n",
      "tensor([[0.4211, 0.1882]], device='cuda:0') 0.06 \t 0.07925696671009064 0.00042\n",
      "tensor([[1.0000, 0.9765]], device='cuda:0') 0.74 \t 0.9764705896377563 0.0571\n",
      "tensor([[0.3509, 0.9059]], device='cuda:0') 0.38 \t 0.3178534507751465 0.00345\n",
      "tensor([[0., 0.]], device='cuda:0') -0.25 \t 0.0 0.0603\n",
      "tensor([[0.9825, 0.3882]], device='cuda:0') 0.44 \t 0.3814241588115692 0.00334\n",
      "tensor([[0.9825, 0.0588]], device='cuda:0') 0.28 \t 0.057791538536548615 0.04811\n"
     ]
    }
   ],
   "source": [
    "for i, (inputs, labels) in enumerate(test_loader):\n",
    "\tinputs = inputs.float().to(device)\n",
    "\tlabels = labels.float().to(device)\n",
    "\n",
    "\tfor learn in range(LEARN_TIME):\n",
    "\t\toutput = model(inputs).flatten()\n",
    "\n",
    "\t\toutputs = 0\n",
    "\t\tfor read in range(READOUT_TIME):\n",
    "\t\t\toutput = model(inputs).flatten()\n",
    "\t\t\t# print(output)\n",
    "\t\t\toutputs += output.item()\n",
    "\t\toutputs = outputs / READOUT_TIME\n",
    "\n",
    "\tprint(inputs, round(outputs, 2), '\\t', labels.item(), round(np.square(outputs - labels.item()), 5))"
   ],
   "metadata": {
    "collapsed": false,
    "pycharm": {
     "name": "#%%\n"
    }
   }
  },
  {
   "cell_type": "code",
   "execution_count": 7,
   "outputs": [
    {
     "name": "stdout",
     "output_type": "stream",
     "text": [
      "tensor(0.)\n",
      "tensor(0., device='cuda:0')\n"
     ]
    }
   ],
   "source": [
    "print(torch.sum(model.W_res.W_res - saved_res))\n",
    "print(torch.sum(model.W_in.weight - saved_in.weight))"
   ],
   "metadata": {
    "collapsed": false,
    "pycharm": {
     "name": "#%%\n"
    }
   }
  },
  {
   "cell_type": "code",
   "execution_count": 8,
   "outputs": [],
   "source": [
    "# for i, (inputs, labels) in enumerate(train_loader):\n",
    "# \tinputs = inputs.float().to(device)\n",
    "# \tlabels = labels.float().to(device)\n",
    "#\n",
    "# \tfor learn in range(LEARN_TIME):\n",
    "# \t\toutput = model(inputs).flatten()\n",
    "#\n",
    "# \t\toutputs = 0\n",
    "# \t\tfor read in range(READOUT_TIME):\n",
    "# \t\t\toutput = model(inputs).flatten()\n",
    "# \t\t\t# print(output)\n",
    "# \t\t\toutputs += output\n",
    "# \t\toutputs = outputs / READOUT_TIME\n",
    "#\n",
    "# \tprint(inputs, outputs.item(), labels.item())"
   ],
   "metadata": {
    "collapsed": false,
    "pycharm": {
     "name": "#%%\n"
    }
   }
  }
 ],
 "metadata": {
  "kernelspec": {
   "display_name": "Python 3",
   "language": "python",
   "name": "python3"
  },
  "language_info": {
   "codemirror_mode": {
    "name": "ipython",
    "version": 2
   },
   "file_extension": ".py",
   "mimetype": "text/x-python",
   "name": "python",
   "nbconvert_exporter": "python",
   "pygments_lexer": "ipython2",
   "version": "2.7.6"
  },
  "pycharm": {
   "stem_cell": {
    "cell_type": "raw",
    "source": [],
    "metadata": {
     "collapsed": false
    }
   }
  }
 },
 "nbformat": 4,
 "nbformat_minor": 0
}