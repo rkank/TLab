{
 "cells": [
  {
   "cell_type": "code",
   "execution_count": 37,
   "outputs": [],
   "source": [
    "import numpy as np\n",
    "from scipy.sparse import random\n",
    "import matplotlib.pyplot as plot"
   ],
   "metadata": {
    "collapsed": false,
    "pycharm": {
     "name": "#%%\n",
     "is_executing": false
    }
   }
  },
  {
   "cell_type": "code",
   "execution_count": 38,
   "outputs": [],
   "source": [
    "V = 9 # number of features\n",
    "R = 50 # size of reservoir\n",
    "LEARN_TIME = 10\n",
    "READOUT_TIME = 100\n",
    "LEARNING_RATE = 0.001\n",
    "DENSITY = 0.25\n",
    "\n",
    "Wr = random(R, R, density=DENSITY).toarray()\n",
    "# Win = random(V, R, density=DENSITY).toarray()\n",
    "Win = np.random.random((V, R))\n",
    "W_readout = np.random.random((R, 2))\n",
    "\n",
    "X = np.array([[[1, 0, 1], [0, 1, 0], [1, 0, 1]], [[1, 1, 1], [1, 0, 1], [1, 1, 1]]])\n",
    "h = np.random.random((R, 1))\n",
    "y = np.array([[0, 1], [1, 0]]) \n",
    "delta = []"
   ],
   "metadata": {
    "collapsed": false,
    "pycharm": {
     "name": "#%%\n",
     "is_executing": false
    }
   }
  },
  {
   "cell_type": "code",
   "execution_count": 39,
   "outputs": [],
   "source": [
    "def advance_state(activation_function):\n",
    "    global h, x, Win, Wr, delta\n",
    "    h_new = np.matmul(Win.transpose(), x) + np.matmul(Wr.transpose(), h)\n",
    "    h_new = activation_function(h_new)\n",
    "    delta.append(np.sum(h_new - h))\n",
    "    h = h_new"
   ],
   "metadata": {
    "collapsed": false,
    "pycharm": {
     "name": "#%%\n",
     "is_executing": false
    }
   }
  },
  {
   "cell_type": "code",
   "execution_count": 40,
   "outputs": [],
   "source": [
    "def relu(x):\n",
    "    if x > 0:\n",
    "\t    return x\n",
    "    else:\n",
    "        return 0\n",
    "    \n",
    "def linear(x):\n",
    "\treturn x\n",
    "\n",
    "def sigmoid(x):\n",
    "\treturn 1/(1 + np.exp(-x))"
   ],
   "metadata": {
    "collapsed": false,
    "pycharm": {
     "name": "#%%\n",
     "is_executing": false
    }
   }
  },
  {
   "cell_type": "code",
   "execution_count": 41,
   "outputs": [],
   "source": [
    "def forward(x):\n",
    "\tglobal Win, Wr, h\n",
    "\tpredict = np.matmul(Win.transpose(), x) + np.matmul(Wr.transpose(), h)\n",
    "\treturn np.matmul(W_readout.transpose(), predict)"
   ],
   "metadata": {
    "collapsed": false,
    "pycharm": {
     "name": "#%%\n",
     "is_executing": false
    }
   }
  },
  {
   "cell_type": "code",
   "execution_count": 42,
   "outputs": [
    {
     "data": {
      "text/plain": "<Figure size 432x288 with 1 Axes>",
      "image/png": "[encoded data removed]"
     },
     "metadata": {
      "needs_background": "light"
     },
     "output_type": "display_data"
    },
    {
     "data": {
      "text/plain": "<Figure size 432x288 with 1 Axes>",
      "image/png": "[encoded data removed]"
     },
     "metadata": {
      "needs_background": "light"
     },
     "output_type": "display_data"
    }
   ],
   "source": [
    "for datapoint in range(2):\n",
    "\tx = X[datapoint].flatten().reshape((9,1))\n",
    "\tlabel = y[datapoint].reshape((2,1))\n",
    "\t\n",
    "\tfor iteration in range(LEARN_TIME):\n",
    "\t    advance_state(sigmoid)\n",
    "\t\n",
    "\tglobal delta\n",
    "\tfig, ax = plot.subplots()\n",
    "\tax.plot(range(delta.__len__()), delta)\n",
    "\tdelta = []\n",
    "\n",
    "\tfor iteration in range(READOUT_TIME):\n",
    "\t\tpredict = forward(x)\n",
    "\t\tW_readout[:,0] = W_readout[:,0] - LEARNING_RATE * (predict[0] - label[0])\n",
    "\t\tW_readout[:,1] = W_readout[:,1] - LEARNING_RATE * (predict[1] - label[1])"
   ],
   "metadata": {
    "collapsed": false,
    "pycharm": {
     "name": "#%%\n",
     "is_executing": false
    }
   }
  },
  {
   "cell_type": "code",
   "execution_count": 43,
   "outputs": [
    {
     "name": "stdout",
     "text": [
      "[[0.80677145]\n",
      " [1.55668919]]\n",
      "[[ 1.00000000e+00]\n",
      " [-1.11022302e-16]]\n"
     ],
     "output_type": "stream"
    }
   ],
   "source": [
    "print(forward(X[0].flatten().reshape((9,1))))\n",
    "print(forward(X[1].flatten().reshape((9,1))))"
   ],
   "metadata": {
    "collapsed": false,
    "pycharm": {
     "name": "#%%\n",
     "is_executing": false
    }
   }
  }
 ],
 "metadata": {
  "kernelspec": {
   "display_name": "Python 3",
   "language": "python",
   "name": "python3"
  },
  "language_info": {
   "codemirror_mode": {
    "name": "ipython",
    "version": 2
   },
   "file_extension": ".py",
   "mimetype": "text/x-python",
   "name": "python",
   "nbconvert_exporter": "python",
   "pygments_lexer": "ipython2",
   "version": "2.7.6"
  },
  "pycharm": {
   "stem_cell": {
    "cell_type": "raw",
    "source": [],
    "metadata": {
     "collapsed": false
    }
   }
  }
 },
 "nbformat": 4,
 "nbformat_minor": 0
}