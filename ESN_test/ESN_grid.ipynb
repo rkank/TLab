{
 "cells": [
  {
   "cell_type": "code",
   "execution_count": 3,
   "outputs": [],
   "source": [
    "import numpy as np\n",
    "from scipy.sparse import random\n",
    "import matplotlib.pyplot as plot"
   ],
   "metadata": {
    "collapsed": false,
    "pycharm": {
     "name": "#%%\n",
     "is_executing": false
    }
   }
  },
  {
   "cell_type": "code",
   "execution_count": 5,
   "outputs": [],
   "source": [
    "V = 3 # number of features\n",
    "R = 20 # size of reservoir\n",
    "LEARN_TIME = 5\n",
    "READOUT_TIME = 100\n",
    "LEARNING_RATE = 0.001\n",
    "DENSITY = 0.25\n",
    "SCALING = 0.15\n",
    "\n",
    "Wr = random(R, R, density=DENSITY).toarray() % 0.1\n",
    "# Win = random(V, R, density=DENSITY).toarray()\n",
    "Win = np.random.random((V, R))\n",
    "W_readout = np.random.random((R, 1))\n",
    "\n",
    "X = np.array([[[1, 0, 1], [0, 1, 0], [1, 0, 1]], [[1, 1, 1], [1, 0, 1], [1, 1, 1]]])\n",
    "h = np.random.random((R, 3))\n",
    "y = np.array([[0, 1], [1, 0]]) \n",
    "delta = []"
   ],
   "metadata": {
    "collapsed": false,
    "pycharm": {
     "name": "#%%\n",
     "is_executing": false
    }
   }
  },
  {
   "cell_type": "code",
   "execution_count": null,
   "outputs": [],
   "source": [
    "def advance_state(activation_function):\n",
    "    global h, x, Win, Wr, delta\n",
    "    h_new = np.matmul(Win.transpose(), x) + np.matmul(Wr.transpose(), h)\n",
    "    h_new = activation_function(h_new)\n",
    "    delta.append(np.sum(h_new - h))\n",
    "    h = h_new"
   ],
   "metadata": {
    "collapsed": false,
    "pycharm": {
     "name": "#%%\n"
    }
   }
  },
  {
   "cell_type": "code",
   "execution_count": null,
   "outputs": [],
   "source": [
    "def relu(x):\n",
    "    if x > 0:\n",
    "\t    return x\n",
    "    else:\n",
    "        return 0\n",
    "    \n",
    "def linear(x):\n",
    "\treturn x\n",
    "\n",
    "def sigmoid(x):\n",
    "\treturn 1/(1 + np.exp(-x))"
   ],
   "metadata": {
    "collapsed": false,
    "pycharm": {
     "name": "#%%\n"
    }
   }
  },
  {
   "cell_type": "code",
   "execution_count": null,
   "outputs": [],
   "source": [
    "def forward(x):\n",
    "\tglobal Win, Wr, h\n",
    "\tpredict = np.matmul(Win.transpose(), x) + np.matmul(Wr.transpose(), h)\n",
    "\treturn np.matmul(W_readout.transpose(), predict)"
   ],
   "metadata": {
    "collapsed": false,
    "pycharm": {
     "name": "#%%\n"
    }
   }
  },
  {
   "cell_type": "code",
   "execution_count": null,
   "outputs": [],
   "source": [
    "x = X[:, 3].reshape(2, 1)\n",
    "label = y[3]\n",
    "\n",
    "for iteration in range(LEARN_TIME):\n",
    "    advance_state(sigmoid)\n",
    "\n",
    "global delta\n",
    "fig, ax = plot.subplots()\n",
    "ax.plot(range(delta.__len__()), delta)\n",
    "delta = []\n",
    "\n",
    "for iteration in range(READOUT_TIME):\n",
    "\tpredict = forward(x)\n",
    "\tW_readout = W_readout - LEARNING_RATE * (predict - label)"
   ],
   "metadata": {
    "collapsed": false,
    "pycharm": {
     "name": "#%%\n"
    }
   }
  },
  {
   "cell_type": "code",
   "execution_count": null,
   "outputs": [],
   "source": [
    "print(forward(X[:, 0].reshape(2,1)))\n",
    "print(forward(X[:, 1].reshape(2,1)))\n",
    "print(forward(X[:, 2].reshape(2,1)))\n",
    "print(forward(X[:, 3].reshape(2,1)))\n",
    "\n",
    "\n"
   ],
   "metadata": {
    "collapsed": false,
    "pycharm": {
     "name": "#%%\n"
    }
   }
  }
 ],
 "metadata": {
  "kernelspec": {
   "display_name": "Python 3",
   "language": "python",
   "name": "python3"
  },
  "language_info": {
   "codemirror_mode": {
    "name": "ipython",
    "version": 2
   },
   "file_extension": ".py",
   "mimetype": "text/x-python",
   "name": "python",
   "nbconvert_exporter": "python",
   "pygments_lexer": "ipython2",
   "version": "2.7.6"
  },
  "pycharm": {
   "stem_cell": {
    "cell_type": "raw",
    "source": [],
    "metadata": {
     "collapsed": false
    }
   }
  }
 },
 "nbformat": 4,
 "nbformat_minor": 0
}