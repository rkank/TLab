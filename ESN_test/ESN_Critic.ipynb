{
 "cells": [
  {
   "cell_type": "code",
   "execution_count": 1,
   "metadata": {
    "collapsed": true,
    "pycharm": {
     "is_executing": false
    }
   },
   "outputs": [],
   "source": [
    "import torch\n",
    "import os\n",
    "from torch.utils.data import Dataset, DataLoader, random_split\n",
    "from torchvision import transforms\n",
    "from echotorch.nn import ESN, LiESN\n",
    "from echotorch.utils.matrix_generation import *\n",
    "import numpy as np\n",
    "from scipy.special import softmax\n",
    "from tqdm.notebook import tqdm, trange\n",
    "import matplotlib.pyplot as plt\n",
    "import torchvision\n",
    "import pathlib\n",
    "import librosa\n",
    "import librosa.display\n",
    "from statistics import mean, stdev\n",
    "\n",
    "device = torch.device(\"cuda:0\" if torch.cuda.is_available() else \"cpu\")\n",
    "# device = torch.device(\"cpu\")\n",
    "os.environ['CUDA_LAUNCH_BLOCKING'] = '1'"
   ]
  },
  {
   "cell_type": "code",
   "execution_count": 2,
   "outputs": [],
   "source": [
    "data_path = '../Hyperdimensional/Datasets/Unprocessed/Chorales/dataset'\n",
    "img_path = '../HyperDimensional/img_data'"
   ],
   "metadata": {
    "collapsed": false,
    "pycharm": {
     "name": "#%%\n",
     "is_executing": false
    }
   }
  },
  {
   "cell_type": "code",
   "execution_count": 3,
   "outputs": [],
   "source": [
    "def process_images():\n",
    "\tcmap = plt.get_cmap('inferno')\n",
    "\tplt.figure(figsize=(8,8))\n",
    "\tpathlib.Path(f'{img_path}').mkdir(parents=True, exist_ok=True)\n",
    "\n",
    "\tfor filename in tqdm(os.listdir(f'{data_path}/train/')):\n",
    "\t    songname = f'{data_path}/train/{filename}'\n",
    "\t    y, sr = librosa.load(songname, mono=True, duration=60)\n",
    "\t    plt.specgram(y, NFFT=2048, Fs=2, Fc=0, cmap=cmap, sides='default', mode='default', scale='dB')\n",
    "\t    plt.axis('off')\n",
    "\t    figfile = f'{img_path}/train/Chorales/{filename[:-3].replace(\".\", \"\")}.png'\n",
    "\t    plt.savefig(figfile)\n",
    "\t    plt.clf()\n",
    "\n",
    "\tfor filename in tqdm(os.listdir(f'{data_path}/test/')):\n",
    "\t    songname = f'{data_path}/test/{filename}'\n",
    "\t    y, sr = librosa.load(songname, mono=True, duration=60)\n",
    "\t    plt.specgram(y, NFFT=2048, Fs=2, Fc=0, noverlap=128, cmap=cmap, sides='default', mode='default', scale='dB')\n",
    "\t    plt.axis('off')\n",
    "\t    figfile = f'{img_path}/test/Chorales/{filename[:-3].replace(\".\", \"\")}.png'\n",
    "\t    plt.savefig(figfile)\n",
    "\t    plt.clf()\n",
    "\t\t\n",
    "\t# for filename in tqdm(os.listdir(f'{data_path}/test/')):\n",
    "\t#     songname = f'{data_path}/test/{filename}'\n",
    "\t#     y, sr = librosa.load(songname, mono=True, duration=60)\n",
    "\t#     S = librosa.feature.melspectrogram(y=y, sr=sr, n_mels=128, fmax=8000)\n",
    "\t#     librosa.display.specshow(librosa.power_to_db(\n",
    "\t# \t                            S, \n",
    "\t#                                 ref=np.max), \n",
    "\t#                                 y_axis='mel', \n",
    "\t#                                 fmax=8000,\n",
    "\t# \t                            x_axis='time')\n",
    "\t#     plt.tight_layout()\n",
    "\t#     plt.axis('off')\n",
    "\t#     figfile = f'{img_path}/mel/{filename[:-3].replace(\".\", \"\")}.png'\n",
    "\t#     plt.savefig(figfile)\n",
    "\t#     plt.clf()"
   ],
   "metadata": {
    "collapsed": false,
    "pycharm": {
     "name": "#%%\n",
     "is_executing": false
    }
   }
  },
  {
   "cell_type": "code",
   "execution_count": 4,
   "outputs": [],
   "source": [
    "# process_images()"
   ],
   "metadata": {
    "collapsed": false,
    "pycharm": {
     "name": "#%%\n",
     "is_executing": false
    }
   }
  },
  {
   "cell_type": "code",
   "execution_count": 5,
   "outputs": [],
   "source": [
    "batch_size = 32\n",
    "im_size = 512\n",
    "CHORALE_IDX = 0\n",
    "NCHORALE_IDX = 1\n",
    "TRAIN_COUNT = len(os.listdir(f'{img_path}/train/Chorales/'))\n",
    "TEST_COUNT = len(os.listdir(f'{img_path}/test/Chorales/'))"
   ],
   "metadata": {
    "collapsed": false,
    "pycharm": {
     "name": "#%%\n",
     "is_executing": false
    }
   }
  },
  {
   "cell_type": "code",
   "execution_count": 6,
   "outputs": [
    {
     "data": {
      "text/plain": "  0%|          | 0/7 [00:00<?, ?it/s]",
      "application/vnd.jupyter.widget-view+json": {
       "version_major": 2,
       "version_minor": 0,
       "model_id": "87c5a71d5559482ca1c739cdca553a96"
      }
     },
     "metadata": {},
     "output_type": "display_data"
    }
   ],
   "source": [
    "class MImageFolder(torchvision.datasets.ImageFolder):\n",
    "\tdef __init__(self, root, transform=None):\n",
    "\t\tsuper(MImageFolder, self).__init__(root=root, transform=transform)\n",
    "\t\tsamples = [(img, img.split('\\\\')[2].split('.')[0]) for img, _ in self.samples]\n",
    "\t\tself.samples = samples\n",
    "\n",
    "def normalization_parameter(dataloader):\n",
    "    mean = 0\n",
    "    std = 0\n",
    "    nb_samples = len(dataloader.dataset)\n",
    "    for data, _ in tqdm(dataloader):\n",
    "        batch_samples = data.size(0)\n",
    "        data = data.view(batch_samples, data.size(1), -1)\n",
    "        mean += data.mean(2).sum(0)\n",
    "        std += data.std(2).sum(0)\n",
    "    mean /= nb_samples\n",
    "    std /= nb_samples\n",
    "    return mean.numpy(),std.numpy()\n",
    "\n",
    "im_transforms = transforms.Compose([transforms.ToTensor()])\n",
    "train_data = MImageFolder(root=f'{img_path}/train', transform=im_transforms)\n",
    "train_loader = DataLoader(train_data, batch_size=batch_size , shuffle=True)\n",
    "mean,std = normalization_parameter(train_loader)"
   ],
   "metadata": {
    "collapsed": false,
    "pycharm": {
     "name": "#%%\n",
     "is_executing": false
    }
   }
  },
  {
   "cell_type": "code",
   "execution_count": 7,
   "outputs": [],
   "source": [
    "im_transforms = transforms.Compose([\n",
    "\t\t\t\t\t\t\t\ttransforms.Resize((im_size,im_size)),\n",
    "\t\t\t\t\t\t\t    # transforms.RandomResizedCrop(size=315, scale=(0.95, 1.0)),\n",
    "\t\t\t\t\t\t\t    # transforms.RandomRotation(degrees=10),\n",
    "\t\t\t\t\t\t\t    # transforms.RandomHorizontalFlip(),\n",
    "\t\t\t\t\t\t\t    # transforms.CenterCrop(size=299),\n",
    "\t\t\t\t\t\t\t    transforms.ToTensor(),\n",
    "\t\t\t\t\t\t\t    transforms.Normalize(mean,std)])\n",
    "\n",
    "\n",
    "train_dataset = MImageFolder(root=f'{img_path}/train', transform=im_transforms)\n",
    "# train_size = int(0.9 * len(train_dataset))\n",
    "# train_dataset, val_dataset = random_split(train_dataset, [train_size, len(train_dataset) - train_size])\n",
    "test_dataset = MImageFolder(root=f'{img_path}/test', transform=im_transforms)\n",
    "\n",
    "train_loader = DataLoader(train_dataset, batch_size, shuffle=True)\n",
    "# val_loader = DataLoader(train_dataset, batch_size, shuffle=True)\n",
    "test_loader = DataLoader(test_dataset, 1, shuffle=True)"
   ],
   "metadata": {
    "collapsed": false,
    "pycharm": {
     "name": "#%%\n",
     "is_executing": false
    }
   }
  },
  {
   "cell_type": "code",
   "execution_count": 8,
   "outputs": [],
   "source": [
    "def create_train_set():\n",
    "\tloader = DataLoader(train_dataset, batch_size=1, shuffle=True)\n",
    "\n",
    "\t# test_imgs = torch.empty((277, 3*im_size*im_size))\n",
    "\t# test_labels = torch.empty((277, 2))\n",
    "\t# \n",
    "\t# for batch_num, (data, label) in enumerate(test_loader):\n",
    "\t# \timg = torch.flatten(data).to(torch.float)\n",
    "\t# \n",
    "\t# \ttest_imgs[batch_num] = img\n",
    "\t# \ttest_labels[batch_num] = torch.zeros(2)\n",
    "\n",
    "\ttrain_imgs = torch.empty((TRAIN_COUNT, 3*im_size*im_size))\n",
    "\t# train_labels = torch.empty((TRAIN_COUNT, 2))\n",
    "\ttrain_labels = torch.empty(TRAIN_COUNT)\n",
    "\n",
    "\tfor batch_num, (data, label) in enumerate(loader):\n",
    "\t\timg = torch.flatten(data).to(torch.float)\n",
    "\n",
    "\t\ttrain_imgs[batch_num] = img\n",
    "\t\t# train_labels[batch_num] = torch.zeros(2)\n",
    "\t\ttrain_labels[batch_num] = torch.zeros(1)\n",
    "\t\tif label[0].startswith('random'):\n",
    "\t\t\t# train_labels[batch_num][NCHORALE_IDX] = torch.tensor(1).to(torch.float)\n",
    "\t\t\ttrain_labels[batch_num] = torch.tensor(0).to(torch.float)\n",
    "\t\telse:\n",
    "\t\t\t# train_labels[batch_num][CHORALE_IDX] = torch.tensor(1).to(torch.float)\n",
    "\t\t\ttrain_labels[batch_num] = torch.tensor(1).to(torch.float)\n",
    "\n",
    "\treturn train_imgs, train_labels"
   ],
   "metadata": {
    "collapsed": false,
    "pycharm": {
     "name": "#%%\n",
     "is_executing": false
    }
   }
  },
  {
   "cell_type": "code",
   "execution_count": 9,
   "outputs": [],
   "source": [
    "def sigmoid(x):\n",
    "\treturn 1 / (1 + np.exp(-x))\n",
    "\n",
    "def test_model(model, loader):\n",
    "\tresults = {}\n",
    "\n",
    "\tfor num, (img, label) in enumerate(loader):\n",
    "\t\tresult = model(img.view(1, -1, 3*im_size*im_size).to(torch.float).to(device))\n",
    "\t\tprediction = result.cpu().numpy().flatten()\n",
    "\t\tresults[label[0]] = sigmoid(prediction)\n",
    "\t\t# results[label[0]] = prediction\n",
    "\t\t# results[label[0]][0] = sigmoid(results[label[0]][0])\n",
    "\t\t# results[label[0]][1] = sigmoid(results[label[0]][1])\n",
    "\n",
    "\treturn results"
   ],
   "metadata": {
    "collapsed": false,
    "pycharm": {
     "name": "#%%\n",
     "is_executing": false
    }
   }
  },
  {
   "cell_type": "code",
   "execution_count": 10,
   "outputs": [],
   "source": [
    "def train_model(res_size):\n",
    "\ttorch.cuda.empty_cache()\n",
    "\tesn = LiESN(\n",
    "\t\tinput_dim=3*im_size*im_size,\n",
    "\t\thidden_dim=res_size,\n",
    "\t\toutput_dim=1,\n",
    "\t\tw_generator=UniformMatrixGenerator(),\n",
    "\t\twbias_generator=UniformMatrixGenerator(),\n",
    "\t\twin_generator=UniformMatrixGenerator(),\n",
    "\t\tlearning_algo='pinv',\n",
    "\t\tnonlin_func=torch.sigmoid,\n",
    "\t\tleaky_rate=0.9,\n",
    "\t\tridge_param=0.25\n",
    "\t).to(device)\n",
    "\n",
    "\t# for input, label in train_loader:\n",
    "\tinput = train_imgs.view(1, -1, 3*im_size*im_size).to(torch.float).to(device)\n",
    "\tlabel = train_labels.view(1, -1, 1).to(torch.float).to(device)\n",
    "\tesn(input, label)\n",
    "\treturn esn"
   ],
   "metadata": {
    "collapsed": false,
    "pycharm": {
     "name": "#%%\n",
     "is_executing": false
    }
   }
  },
  {
   "cell_type": "code",
   "execution_count": 11,
   "outputs": [],
   "source": [
    "def print_scores(results):\n",
    "\tmean_scores = {'boring': 0, 'random': 0, 'comp': 0, 'chorale': 0}\n",
    "\ttotals = {'boring': 0, 'random': 0, 'comp': 0, 'chorale': 0}\n",
    "\tfor (file, score) in results.items():\n",
    "\t\tif file.startswith('rand'):\n",
    "\t\t\ttotals['random'] += 1\n",
    "\t\t\tmean_scores['random'] += score.item()\n",
    "\t\tif file.startswith('boring'):\n",
    "\t\t\ttotals['boring'] += 1\n",
    "\t\t\tmean_scores['boring'] += score.item()\n",
    "\t\tif file.startswith('comp'):\n",
    "\t\t\ttotals['comp'] += 1\n",
    "\t\t\tmean_scores['comp'] += score.item()\n",
    "\t\telse:\n",
    "\t\t\ttotals['chorale'] += 1\n",
    "\t\t\tmean_scores['chorale'] += score.item()\n",
    "\t\n",
    "\tfor key in ['boring', 'random', 'comp', 'chorale']:\n",
    "\t\tmean_scores[key] /= totals[key]\n",
    "\t\n",
    "\tif totals['boring'] > 0:\n",
    "\t\tprint(f\"Boring: {round(mean_scores['boring'],5)}\")\n",
    "\tif totals['random'] > 0:\n",
    "\t\tprint(f\"Random: {round(mean_scores['random'],5)}\")\n",
    "\tif totals['comp'] > 0:\n",
    "\t\tprint(f\"Composed: {round(mean_scores['comp'],5)}\")\n",
    "\tif totals['chorale'] > 0:\n",
    "\t\tprint(f\"Chorale: {round(mean_scores['chorale'],5)}\")\n",
    "\n",
    "\treturn mean_scores\n",
    "\n",
    "def print_results(results):\n",
    "\tpredictions = {}\n",
    "\tfor (file, result) in results.items():\n",
    "\t\tpredictions[file] = softmax(result).flatten()\n",
    "\t\tpredictions[file] = 'Chorale' if np.argmax(predictions[file], 0) == CHORALE_IDX else 'Not chorale'\n",
    "\n",
    "\taccuracy = {'boring': 0, 'random': 0, 'comp': 0, 'chorale': 0}\n",
    "\ttotals = {'boring': 0, 'random': 0, 'comp': 0, 'chorale': 0}\n",
    "\tfor (file, pred) in predictions.items():\n",
    "\t\tif file.startswith('rand'):\n",
    "\t\t\ttotals['random'] += 1\n",
    "\t\t\taccuracy['random'] += pred == 'Not chorale'\n",
    "\t\tif file.startswith('boring'):\n",
    "\t\t\ttotals['boring'] += 1\n",
    "\t\t\taccuracy['boring'] += pred == 'Not chorale'\n",
    "\t\tif file.startswith('comp'):\n",
    "\t\t\ttotals['comp'] += 1\n",
    "\t\t\taccuracy['comp'] += pred == 'Chorale'\n",
    "\t\telse:\n",
    "\t\t\ttotals['chorale'] += 1\n",
    "\t\t\taccuracy['chorale'] += pred == 'Chorale'\n",
    "\n",
    "\tif totals['boring'] > 0:\n",
    "\t\tprint(f\"Classified {accuracy['boring']}/{totals['boring']} ({round(100*accuracy['boring']/totals['boring'],2)}%) boring compositions as not chorales\")\n",
    "\tif totals['random'] > 0:\n",
    "\t\tprint(f\"Classified {accuracy['random']}/{totals['random']} ({round(100*accuracy['random']/totals['random'],2)}%) random compositions as not chorales\")\n",
    "\tif totals['comp'] > 0:\n",
    "\t\tprint(f\"Classified {accuracy['comp']}/{totals['comp']} ({round(100*accuracy['comp']/totals['comp'],2)}%) composition as chorales\")\n",
    "\tif totals['chorale'] > 0:\n",
    "\t\tprint(f\"Classified {accuracy['chorale']}/{totals['chorale']} ({round(100*accuracy['chorale']/totals['chorale'],2)}%) dataset chorales as chorales\")\n",
    "\n",
    "\treturn accuracy, totals"
   ],
   "metadata": {
    "collapsed": false,
    "pycharm": {
     "name": "#%%\n",
     "is_executing": false
    }
   }
  },
  {
   "cell_type": "code",
   "execution_count": 12,
   "outputs": [
    {
     "data": {
      "text/plain": "  0%|          | 0/3 [00:00<?, ?it/s]",
      "application/vnd.jupyter.widget-view+json": {
       "version_major": 2,
       "version_minor": 0,
       "model_id": "ba6c8f969cc44ed28a0364f882840aa0"
      }
     },
     "metadata": {},
     "output_type": "display_data"
    },
    {
     "data": {
      "text/plain": "  0%|          | 0/1 [00:00<?, ?it/s]",
      "application/vnd.jupyter.widget-view+json": {
       "version_major": 2,
       "version_minor": 0,
       "model_id": "c7f405c1997c4026bdf8cdfda5b31b0a"
      }
     },
     "metadata": {},
     "output_type": "display_data"
    },
    {
     "traceback": [
      "\u001b[1;31m---------------------------------------------------------------------------\u001b[0m",
      "\u001b[1;31mRuntimeError\u001b[0m                              Traceback (most recent call last)",
      "\u001b[1;32m<ipython-input-12-1470d5eb391f>\u001b[0m in \u001b[0;36m<module>\u001b[1;34m\u001b[0m\n\u001b[0;32m     10\u001b[0m         \u001b[1;32mfor\u001b[0m \u001b[0mres_size\u001b[0m \u001b[1;32min\u001b[0m \u001b[0mtqdm\u001b[0m\u001b[1;33m(\u001b[0m\u001b[0mSIZES\u001b[0m\u001b[1;33m)\u001b[0m\u001b[1;33m:\u001b[0m\u001b[1;33m\u001b[0m\u001b[1;33m\u001b[0m\u001b[0m\n\u001b[0;32m     11\u001b[0m                 \u001b[1;32mfor\u001b[0m \u001b[0malpha\u001b[0m \u001b[1;32min\u001b[0m \u001b[0mALPHA\u001b[0m\u001b[1;33m:\u001b[0m\u001b[1;33m\u001b[0m\u001b[1;33m\u001b[0m\u001b[0m\n\u001b[1;32m---> 12\u001b[1;33m                         \u001b[0mmodel\u001b[0m \u001b[1;33m=\u001b[0m \u001b[0mtrain_model\u001b[0m\u001b[1;33m(\u001b[0m\u001b[0mres_size\u001b[0m\u001b[1;33m)\u001b[0m\u001b[1;33m\u001b[0m\u001b[1;33m\u001b[0m\u001b[0m\n\u001b[0m\u001b[0;32m     13\u001b[0m                         \u001b[0mmodel\u001b[0m\u001b[1;33m.\u001b[0m\u001b[0mfinalize\u001b[0m\u001b[1;33m(\u001b[0m\u001b[1;33m)\u001b[0m\u001b[1;33m\u001b[0m\u001b[1;33m\u001b[0m\u001b[0m\n\u001b[0;32m     14\u001b[0m \u001b[1;33m\u001b[0m\u001b[0m\n",
      "\u001b[1;32m<ipython-input-10-09c11f6cded9>\u001b[0m in \u001b[0;36mtrain_model\u001b[1;34m(res_size)\u001b[0m\n\u001b[0;32m     15\u001b[0m \u001b[1;33m\u001b[0m\u001b[0m\n\u001b[0;32m     16\u001b[0m         \u001b[1;31m# for input, label in train_loader:\u001b[0m\u001b[1;33m\u001b[0m\u001b[1;33m\u001b[0m\u001b[1;33m\u001b[0m\u001b[0m\n\u001b[1;32m---> 17\u001b[1;33m         \u001b[0minput\u001b[0m \u001b[1;33m=\u001b[0m \u001b[0mtorch\u001b[0m\u001b[1;33m.\u001b[0m\u001b[0mt\u001b[0m\u001b[1;33m(\u001b[0m\u001b[0mtrain_imgs\u001b[0m\u001b[1;33m.\u001b[0m\u001b[0mview\u001b[0m\u001b[1;33m(\u001b[0m\u001b[1;36m1\u001b[0m\u001b[1;33m,\u001b[0m \u001b[1;33m-\u001b[0m\u001b[1;36m1\u001b[0m\u001b[1;33m,\u001b[0m \u001b[1;36m3\u001b[0m\u001b[1;33m*\u001b[0m\u001b[0mim_size\u001b[0m\u001b[1;33m*\u001b[0m\u001b[0mim_size\u001b[0m\u001b[1;33m)\u001b[0m\u001b[1;33m.\u001b[0m\u001b[0mto\u001b[0m\u001b[1;33m(\u001b[0m\u001b[0mtorch\u001b[0m\u001b[1;33m.\u001b[0m\u001b[0mfloat\u001b[0m\u001b[1;33m)\u001b[0m\u001b[1;33m)\u001b[0m\u001b[1;33m.\u001b[0m\u001b[0mto\u001b[0m\u001b[1;33m(\u001b[0m\u001b[0mdevice\u001b[0m\u001b[1;33m)\u001b[0m\u001b[1;33m\u001b[0m\u001b[1;33m\u001b[0m\u001b[0m\n\u001b[0m\u001b[0;32m     18\u001b[0m         \u001b[0mlabel\u001b[0m \u001b[1;33m=\u001b[0m \u001b[0mtrain_labels\u001b[0m\u001b[1;33m.\u001b[0m\u001b[0mview\u001b[0m\u001b[1;33m(\u001b[0m\u001b[1;36m1\u001b[0m\u001b[1;33m,\u001b[0m \u001b[1;33m-\u001b[0m\u001b[1;36m1\u001b[0m\u001b[1;33m,\u001b[0m \u001b[1;36m1\u001b[0m\u001b[1;33m)\u001b[0m\u001b[1;33m.\u001b[0m\u001b[0mto\u001b[0m\u001b[1;33m(\u001b[0m\u001b[0mtorch\u001b[0m\u001b[1;33m.\u001b[0m\u001b[0mfloat\u001b[0m\u001b[1;33m)\u001b[0m\u001b[1;33m.\u001b[0m\u001b[0mto\u001b[0m\u001b[1;33m(\u001b[0m\u001b[0mdevice\u001b[0m\u001b[1;33m)\u001b[0m\u001b[1;33m\u001b[0m\u001b[1;33m\u001b[0m\u001b[0m\n\u001b[0;32m     19\u001b[0m         \u001b[0mesn\u001b[0m\u001b[1;33m(\u001b[0m\u001b[0minput\u001b[0m\u001b[1;33m,\u001b[0m \u001b[0mlabel\u001b[0m\u001b[1;33m)\u001b[0m\u001b[1;33m\u001b[0m\u001b[1;33m\u001b[0m\u001b[0m\n",
      "\u001b[1;31mRuntimeError\u001b[0m: t() expects a tensor with <= 2 dimensions, but self is 3D"
     ],
     "ename": "RuntimeError",
     "evalue": "t() expects a tensor with <= 2 dimensions, but self is 3D",
     "output_type": "error"
    }
   ],
   "source": [
    "SIZES = [750]\n",
    "ALPHA = [0.9]\n",
    "\n",
    "stats = {}\n",
    "train_imgs, train_labels = create_train_set()\n",
    "\n",
    "scores = []\n",
    "\n",
    "for RUN in trange(10):\n",
    "\tfor res_size in tqdm(SIZES):\n",
    "\t\tfor alpha in ALPHA:\n",
    "\t\t\tmodel = train_model(res_size)\n",
    "\t\t\tmodel.finalize()\n",
    "\t\t\t\n",
    "\t\t\tprint(f'\\n\\nTesting with {res_size} nodes, alpha {alpha}:')\n",
    "\t\t\ttest_results = test_model(model, test_loader)\n",
    "\t\t\tprint('Test results:')\n",
    "\t\t\t# test_acc, test_totals = print_results(test_results)\n",
    "\t\t\t# stats[(res_size, alpha)] = (test_acc, test_totals)\n",
    "\t\t\ttest_scores = print_scores(test_results)\n",
    "\t\t\tscores.append(test_scores)\n",
    "\t\t\t"
   ],
   "metadata": {
    "collapsed": false,
    "pycharm": {
     "name": "#%%\n",
     "is_executing": false
    }
   }
  },
  {
   "cell_type": "code",
   "execution_count": null,
   "outputs": [],
   "source": [
    "boring_scores = [score['boring'] for score in scores]\n",
    "random_scores = [score['random'] for score in scores]\n",
    "comp_scores = [score['comp'] for score in scores]\n",
    "chorales_scores = [score['chorale'] for score in scores]\n",
    "\n",
    "boring_stats = mean(boring_scores), stdev(boring_scores)\n",
    "random_stats = mean(random_scores), stdev(random_scores)\n",
    "comp_stats = mean(comp_scores), stdev(comp_scores)\n",
    "chorales_stats = mean(chorales_scores), stdev(chorales_scores)"
   ],
   "metadata": {
    "collapsed": false,
    "pycharm": {
     "name": "#%%\n",
     "is_executing": true
    }
   }
  },
  {
   "cell_type": "code",
   "execution_count": null,
   "outputs": [],
   "source": [
    "labels = ['Boring', 'Random', 'Composition', 'Chorales']\n",
    "x_pos = np.arange(len(labels))\n",
    "stats = [boring_stats, random_stats, comp_stats, chorales_stats]\n",
    "means = [stat[0] for stat in stats]\n",
    "stds = [stat[1] for stat in stats]\n",
    "\n",
    "# Build the plot\n",
    "fig, ax = plt.subplots()\n",
    "ax.bar(x_pos, means, yerr=stds, align='center', alpha=0.5, ecolor='black', capsize=10)\n",
    "ax.set_ylabel('Score')\n",
    "ax.set_xticks(x_pos)\n",
    "ax.set_xticklabels(labels)\n",
    "ax.set_title('ESN assigned score for chorales and compositions')\n",
    "# ax.yaxis.grid(True)\n",
    "\n",
    "# fig.tight_layout()\n",
    "fig.set_size_inches(15, 10)\n",
    "plt.savefig('ESN_Scores.jpg', dpi=100)\n"
   ],
   "metadata": {
    "collapsed": false,
    "pycharm": {
     "name": "#%%\n"
    }
   }
  },
  {
   "cell_type": "code",
   "execution_count": null,
   "outputs": [],
   "source": [
    "labels = ['Boring', 'Random', 'Composition', 'Chorales']\n",
    "x_pos = np.arange(len(labels))\n",
    "stats = [boring_stats, random_stats, comp_stats, chorales_stats]\n",
    "means = [stat[0] for stat in stats]\n",
    "stds = [stat[1] for stat in stats]\n",
    "\n",
    "# Build the plot\n",
    "fig, ax = plt.subplots()\n",
    "ax.bar(x_pos, means, yerr=stds, align='center', alpha=0.5, ecolor='black', capsize=10)\n",
    "ax.set_ylabel('Score')\n",
    "ax.set_xticks(x_pos)\n",
    "ax.set_xticklabels(labels)\n",
    "ax.set_title('ESN assigned score for chorales and compositions')\n",
    "# ax.yaxis.grid(True)\n",
    "\n",
    "# fig.tight_layout()\n",
    "fig.set_size_inches(15, 10)\n",
    "plt.savefig('ESN_Scores.jpg', dpi=100)\n"
   ],
   "metadata": {
    "collapsed": false,
    "pycharm": {
     "name": "#%%\n"
    }
   }
  },
  {
   "cell_type": "code",
   "execution_count": null,
   "outputs": [],
   "source": [
    "labels = ['Boring', 'Random', 'Composition', 'Chorales']\n",
    "x_pos = np.arange(len(labels))\n",
    "stats = [boring_stats, random_stats, comp_stats, chorales_stats]\n",
    "means = [stat[0] for stat in stats]\n",
    "stds = [stat[1] for stat in stats]\n",
    "\n",
    "# Build the plot\n",
    "fig, ax = plt.subplots()\n",
    "ax.bar(x_pos, means, yerr=stds, align='center', alpha=0.5, ecolor='black', capsize=10)\n",
    "ax.set_ylabel('Score')\n",
    "ax.set_xticks(x_pos)\n",
    "ax.set_xticklabels(labels)\n",
    "ax.set_title('ESN assigned score for chorales and compositions')\n",
    "# ax.yaxis.grid(True)\n",
    "\n",
    "# fig.tight_layout()\n",
    "fig.set_size_inches(15, 10)\n",
    "plt.savefig('ESN_Scores.jpg', dpi=100)\n"
   ],
   "metadata": {
    "collapsed": false,
    "pycharm": {
     "name": "#%%\n",
     "is_executing": true
    }
   }
  }
 ],
 "metadata": {
  "kernelspec": {
   "display_name": "Python 3",
   "language": "python",
   "name": "python3"
  },
  "language_info": {
   "codemirror_mode": {
    "name": "ipython",
    "version": 2
   },
   "file_extension": ".py",
   "mimetype": "text/x-python",
   "name": "python",
   "nbconvert_exporter": "python",
   "pygments_lexer": "ipython2",
   "version": "2.7.6"
  },
  "pycharm": {
   "stem_cell": {
    "cell_type": "raw",
    "source": [],
    "metadata": {
     "collapsed": false
    }
   }
  }
 },
 "nbformat": 4,
 "nbformat_minor": 0
}