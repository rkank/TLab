{
 "cells": [
  {
   "cell_type": "code",
   "execution_count": 24,
   "metadata": {
    "collapsed": true
   },
   "outputs": [],
   "source": [
    "import torch\n",
    "import os\n",
    "from torch.utils.data import Dataset, DataLoader, random_split\n",
    "from torchvision import transforms\n",
    "from echotorch.nn import ESN, LiESN\n",
    "from echotorch.utils.matrix_generation import *\n",
    "import numpy as np\n",
    "from scipy.special import softmax\n",
    "from tqdm.notebook import tqdm, trange\n",
    "import matplotlib.pyplot as plt\n",
    "import torchvision\n",
    "import pathlib\n",
    "import librosa\n",
    "import librosa.display\n",
    "import glob\n",
    "from mido import MidiFile, MidiTrack, Message\n",
    "from statistics import mean, stdev\n",
    "\n",
    "device = torch.device(\"cuda:0\" if torch.cuda.is_available() else \"cpu\")\n",
    "# device = torch.device(\"cpu\")\n",
    "os.environ['CUDA_LAUNCH_BLOCKING'] = '1'"
   ]
  },
  {
   "cell_type": "code",
   "execution_count": 25,
   "outputs": [],
   "source": [
    "data_path = '../Hyperdimensional/Datasets/Unprocessed/Chorales/MIDI'\n",
    "img_path = '../HyperDimensional/img_data'"
   ],
   "metadata": {
    "collapsed": false,
    "pycharm": {
     "name": "#%%\n"
    }
   }
  },
  {
   "cell_type": "code",
   "execution_count": 67,
   "outputs": [
    {
     "ename": "KeyboardInterrupt",
     "evalue": "",
     "output_type": "error",
     "traceback": [
      "\u001b[1;31m---------------------------------------------------------------------------\u001b[0m",
      "\u001b[1;31mKeyboardInterrupt\u001b[0m                         Traceback (most recent call last)",
      "\u001b[1;32m<ipython-input-67-f47907739dc2>\u001b[0m in \u001b[0;36m<module>\u001b[1;34m\u001b[0m\n\u001b[0;32m    101\u001b[0m \u001b[1;33m\u001b[0m\u001b[0m\n\u001b[0;32m    102\u001b[0m \u001b[1;33m\u001b[0m\u001b[0m\n\u001b[1;32m--> 103\u001b[1;33m \u001b[0mtrain_chorales\u001b[0m\u001b[1;33m,\u001b[0m \u001b[0mtest_chorales\u001b[0m\u001b[1;33m,\u001b[0m \u001b[0mmin_len\u001b[0m \u001b[1;33m=\u001b[0m \u001b[0mprocess_notes\u001b[0m\u001b[1;33m(\u001b[0m\u001b[1;33m)\u001b[0m\u001b[1;33m\u001b[0m\u001b[1;33m\u001b[0m\u001b[0m\n\u001b[0m\u001b[0;32m    104\u001b[0m \u001b[1;33m\u001b[0m\u001b[0m\n",
      "\u001b[1;32m<ipython-input-67-f47907739dc2>\u001b[0m in \u001b[0;36mprocess_notes\u001b[1;34m()\u001b[0m\n\u001b[0;32m     73\u001b[0m \u001b[1;33m\u001b[0m\u001b[0m\n\u001b[0;32m     74\u001b[0m                 \u001b[1;32mif\u001b[0m \u001b[0mlen\u001b[0m\u001b[1;33m(\u001b[0m\u001b[0mnotes\u001b[0m\u001b[1;33m)\u001b[0m \u001b[1;33m<\u001b[0m \u001b[0mmin_len\u001b[0m\u001b[1;33m:\u001b[0m\u001b[1;33m\u001b[0m\u001b[1;33m\u001b[0m\u001b[0m\n\u001b[1;32m---> 75\u001b[1;33m                         \u001b[0mmin_len\u001b[0m \u001b[1;33m=\u001b[0m \u001b[0mlen\u001b[0m\u001b[1;33m(\u001b[0m\u001b[0mnotes\u001b[0m\u001b[1;33m)\u001b[0m\u001b[1;33m\u001b[0m\u001b[1;33m\u001b[0m\u001b[0m\n\u001b[0m\u001b[0;32m     76\u001b[0m \u001b[1;33m\u001b[0m\u001b[0m\n\u001b[0;32m     77\u001b[0m         \u001b[1;31m# Composed test files\u001b[0m\u001b[1;33m\u001b[0m\u001b[1;33m\u001b[0m\u001b[1;33m\u001b[0m\u001b[0m\n",
      "\u001b[1;32m<ipython-input-67-f47907739dc2>\u001b[0m in \u001b[0;36mprocess_notes\u001b[1;34m()\u001b[0m\n\u001b[0;32m     73\u001b[0m \u001b[1;33m\u001b[0m\u001b[0m\n\u001b[0;32m     74\u001b[0m                 \u001b[1;32mif\u001b[0m \u001b[0mlen\u001b[0m\u001b[1;33m(\u001b[0m\u001b[0mnotes\u001b[0m\u001b[1;33m)\u001b[0m \u001b[1;33m<\u001b[0m \u001b[0mmin_len\u001b[0m\u001b[1;33m:\u001b[0m\u001b[1;33m\u001b[0m\u001b[1;33m\u001b[0m\u001b[0m\n\u001b[1;32m---> 75\u001b[1;33m                         \u001b[0mmin_len\u001b[0m \u001b[1;33m=\u001b[0m \u001b[0mlen\u001b[0m\u001b[1;33m(\u001b[0m\u001b[0mnotes\u001b[0m\u001b[1;33m)\u001b[0m\u001b[1;33m\u001b[0m\u001b[1;33m\u001b[0m\u001b[0m\n\u001b[0m\u001b[0;32m     76\u001b[0m \u001b[1;33m\u001b[0m\u001b[0m\n\u001b[0;32m     77\u001b[0m         \u001b[1;31m# Composed test files\u001b[0m\u001b[1;33m\u001b[0m\u001b[1;33m\u001b[0m\u001b[1;33m\u001b[0m\u001b[0m\n",
      "\u001b[1;32m_pydevd_bundle\\pydevd_cython_win32_37_64.pyx\u001b[0m in \u001b[0;36m_pydevd_bundle.pydevd_cython_win32_37_64.SafeCallWrapper.__call__\u001b[1;34m()\u001b[0m\n",
      "\u001b[1;32m_pydevd_bundle\\pydevd_cython_win32_37_64.pyx\u001b[0m in \u001b[0;36m_pydevd_bundle.pydevd_cython_win32_37_64.PyDBFrame.trace_dispatch\u001b[1;34m()\u001b[0m\n",
      "\u001b[1;32m_pydevd_bundle\\pydevd_cython_win32_37_64.pyx\u001b[0m in \u001b[0;36m_pydevd_bundle.pydevd_cython_win32_37_64.PyDBFrame.trace_dispatch\u001b[1;34m()\u001b[0m\n",
      "\u001b[1;32m_pydevd_bundle\\pydevd_cython_win32_37_64.pyx\u001b[0m in \u001b[0;36m_pydevd_bundle.pydevd_cython_win32_37_64.PyDBFrame.trace_dispatch\u001b[1;34m()\u001b[0m\n",
      "\u001b[1;32m_pydevd_bundle\\pydevd_cython_win32_37_64.pyx\u001b[0m in \u001b[0;36m_pydevd_bundle.pydevd_cython_win32_37_64.PyDBFrame.do_wait_suspend\u001b[1;34m()\u001b[0m\n",
      "\u001b[1;32mC:\\Program Files\\JetBrains\\PyCharm Professional Edition with Anaconda plugin 2019.3.1\\plugins\\python\\helpers\\pydev\\pydevd.py\u001b[0m in \u001b[0;36mdo_wait_suspend\u001b[1;34m(self, thread, frame, event, arg, send_suspend_message, is_unhandled_exception)\u001b[0m\n\u001b[0;32m   1110\u001b[0m \u001b[1;33m\u001b[0m\u001b[0m\n\u001b[0;32m   1111\u001b[0m         \u001b[1;32mwith\u001b[0m \u001b[0mself\u001b[0m\u001b[1;33m.\u001b[0m\u001b[0m_threads_suspended_single_notification\u001b[0m\u001b[1;33m.\u001b[0m\u001b[0mnotify_thread_suspended\u001b[0m\u001b[1;33m(\u001b[0m\u001b[0mthread_id\u001b[0m\u001b[1;33m,\u001b[0m \u001b[0mstop_reason\u001b[0m\u001b[1;33m)\u001b[0m\u001b[1;33m:\u001b[0m\u001b[1;33m\u001b[0m\u001b[1;33m\u001b[0m\u001b[0m\n\u001b[1;32m-> 1112\u001b[1;33m             \u001b[0mself\u001b[0m\u001b[1;33m.\u001b[0m\u001b[0m_do_wait_suspend\u001b[0m\u001b[1;33m(\u001b[0m\u001b[0mthread\u001b[0m\u001b[1;33m,\u001b[0m \u001b[0mframe\u001b[0m\u001b[1;33m,\u001b[0m \u001b[0mevent\u001b[0m\u001b[1;33m,\u001b[0m \u001b[0marg\u001b[0m\u001b[1;33m,\u001b[0m \u001b[0msuspend_type\u001b[0m\u001b[1;33m,\u001b[0m \u001b[0mfrom_this_thread\u001b[0m\u001b[1;33m)\u001b[0m\u001b[1;33m\u001b[0m\u001b[1;33m\u001b[0m\u001b[0m\n\u001b[0m\u001b[0;32m   1113\u001b[0m \u001b[1;33m\u001b[0m\u001b[0m\n\u001b[0;32m   1114\u001b[0m     \u001b[1;32mdef\u001b[0m \u001b[0m_do_wait_suspend\u001b[0m\u001b[1;33m(\u001b[0m\u001b[0mself\u001b[0m\u001b[1;33m,\u001b[0m \u001b[0mthread\u001b[0m\u001b[1;33m,\u001b[0m \u001b[0mframe\u001b[0m\u001b[1;33m,\u001b[0m \u001b[0mevent\u001b[0m\u001b[1;33m,\u001b[0m \u001b[0marg\u001b[0m\u001b[1;33m,\u001b[0m \u001b[0msuspend_type\u001b[0m\u001b[1;33m,\u001b[0m \u001b[0mfrom_this_thread\u001b[0m\u001b[1;33m)\u001b[0m\u001b[1;33m:\u001b[0m\u001b[1;33m\u001b[0m\u001b[1;33m\u001b[0m\u001b[0m\n",
      "\u001b[1;32mC:\\Program Files\\JetBrains\\PyCharm Professional Edition with Anaconda plugin 2019.3.1\\plugins\\python\\helpers\\pydev\\pydevd.py\u001b[0m in \u001b[0;36m_do_wait_suspend\u001b[1;34m(self, thread, frame, event, arg, suspend_type, from_this_thread)\u001b[0m\n\u001b[0;32m   1125\u001b[0m \u001b[1;33m\u001b[0m\u001b[0m\n\u001b[0;32m   1126\u001b[0m                 \u001b[0mself\u001b[0m\u001b[1;33m.\u001b[0m\u001b[0mprocess_internal_commands\u001b[0m\u001b[1;33m(\u001b[0m\u001b[1;33m)\u001b[0m\u001b[1;33m\u001b[0m\u001b[1;33m\u001b[0m\u001b[0m\n\u001b[1;32m-> 1127\u001b[1;33m                 \u001b[0mtime\u001b[0m\u001b[1;33m.\u001b[0m\u001b[0msleep\u001b[0m\u001b[1;33m(\u001b[0m\u001b[1;36m0.01\u001b[0m\u001b[1;33m)\u001b[0m\u001b[1;33m\u001b[0m\u001b[1;33m\u001b[0m\u001b[0m\n\u001b[0m\u001b[0;32m   1128\u001b[0m \u001b[1;33m\u001b[0m\u001b[0m\n\u001b[0;32m   1129\u001b[0m         \u001b[0mself\u001b[0m\u001b[1;33m.\u001b[0m\u001b[0mcancel_async_evaluation\u001b[0m\u001b[1;33m(\u001b[0m\u001b[0mget_current_thread_id\u001b[0m\u001b[1;33m(\u001b[0m\u001b[0mthread\u001b[0m\u001b[1;33m)\u001b[0m\u001b[1;33m,\u001b[0m \u001b[0mstr\u001b[0m\u001b[1;33m(\u001b[0m\u001b[0mid\u001b[0m\u001b[1;33m(\u001b[0m\u001b[0mframe\u001b[0m\u001b[1;33m)\u001b[0m\u001b[1;33m)\u001b[0m\u001b[1;33m)\u001b[0m\u001b[1;33m\u001b[0m\u001b[1;33m\u001b[0m\u001b[0m\n",
      "\u001b[1;31mKeyboardInterrupt\u001b[0m: "
     ]
    }
   ],
   "source": [
    "def process_notes():\n",
    "\ttrain_chorales = {}\n",
    "\ttest_chorales = {}\n",
    "\tUCI_files = glob.glob('../HyperDimensional/Datasets/Unprocessed/Chorales/MIDI/UCI/*.mid')\n",
    "\trand_train_files = glob.glob('../HyperDimensional/Datasets/Unprocessed/Chorales/MIDI/RandomChorales_train/*.mid')\n",
    "\trand_test_files = glob.glob('../HyperDimensional/Datasets/Unprocessed/Chorales/MIDI/RandomChorales_test/*.mid')\n",
    "\tboring_files = glob.glob('../HyperDimensional/Datasets/Unprocessed/Chorales/MIDI/BoringChorales/*.mid')\n",
    "\tcomposed_files = glob.glob('../HyperDimensional/Datasets/Unprocessed/Chorales/MIDI/ComposedChorales/*.mid')\n",
    "\tmin_len = 100\n",
    "\n",
    "\t# Chorale files\n",
    "\tfor chorale_num, chorale in enumerate(UCI_files):\n",
    "\t\tchorale = MidiFile(chorale)\n",
    "\t\tnotes = []\n",
    "\n",
    "\t\tfor num, message in enumerate(chorale.tracks[0]):\n",
    "\t\t\tif message.type == 'note_on' and message.velocity != 0:\n",
    "\t\t\t\tnotes.append(message.note)\n",
    "\n",
    "\n",
    "\t\tfilename = chorale.filename.split('\\\\')[1].split('.mid')[0]\n",
    "\t\ttrain_chorales[filename] = notes\n",
    "\t\ttest_chorales[filename] = notes\n",
    "\n",
    "\t\tif len(notes) < min_len:\n",
    "\t\t\tmin_len = len(notes)\n",
    "\n",
    "\t# Random train files\n",
    "\tfor chorale_num, chorale in enumerate(rand_train_files):\n",
    "\t\tchorale = MidiFile(chorale)\n",
    "\t\tnotes = []\n",
    "\n",
    "\t\tfor num, message in enumerate(chorale.tracks[0]):\n",
    "\t\t\tif message.type == 'note_on' and message.velocity != 0:\n",
    "\t\t\t\tnotes.append(message.note)\n",
    "\n",
    "\n",
    "\t\tfilename = chorale.filename.split('\\\\')[1].split('.mid')[0]\n",
    "\t\ttrain_chorales[filename] = notes\n",
    "\n",
    "\t\tif len(notes) < min_len:\n",
    "\t\t\tmin_len = len(notes)\n",
    "\n",
    "\t# Random test files\n",
    "\tfor chorale_num, chorale in enumerate(rand_test_files):\n",
    "\t\tchorale = MidiFile(chorale)\n",
    "\t\tnotes = []\n",
    "\n",
    "\t\tfor num, message in enumerate(chorale.tracks[0]):\n",
    "\t\t\tif message.type == 'note_on' and message.velocity != 0:\n",
    "\t\t\t\tnotes.append(message.note)\n",
    "\n",
    "\t\tfilename = chorale.filename.split('\\\\')[1].split('.mid')[0]\n",
    "\t\ttest_chorales[filename] = notes\n",
    "\n",
    "\t\tif len(notes) < min_len:\n",
    "\t\t\tmin_len = len(notes)\n",
    "\n",
    "\t# Boring test files\n",
    "\tfor chorale_num, chorale in enumerate(boring_files):\n",
    "\t\tchorale = MidiFile(chorale)\n",
    "\t\tnotes = []\n",
    "\n",
    "\t\tfor num, message in enumerate(chorale.tracks[0]):\n",
    "\t\t\tif message.type == 'note_on' and message.velocity != 0:\n",
    "\t\t\t\tnotes.append(message.note)\n",
    "\n",
    "\n",
    "\t\tfilename = chorale.filename.split('\\\\')[1].split('.mid')[0]\n",
    "\t\ttest_chorales[filename] = notes\n",
    "\n",
    "\t\tif len(notes) < min_len:\n",
    "\t\t\tmin_len = len(notes)\n",
    "\n",
    "\t# Composed test files\n",
    "\tfor chorale_num, chorale in enumerate(composed_files):\n",
    "\t\tchorale = MidiFile(chorale)\n",
    "\t\tnotes = []\n",
    "\n",
    "\t\tfor num, message in enumerate(chorale.tracks[0]):\n",
    "\t\t\tif message.type == 'note_on' and message.velocity != 0:\n",
    "\t\t\t\tnotes.append(message.note)\n",
    "\n",
    "\n",
    "\t\tfilename = chorale.filename.split('\\\\')[1].split('.mid')[0]\n",
    "\t\ttest_chorales[filename] = notes\n",
    "\n",
    "\t\tif len(notes) < min_len:\n",
    "\t\t\tmin_len = len(notes)\n",
    "\n",
    "\tfor key, value in train_chorales.items():\n",
    "\t\ttrain_chorales[key] = torch.Tensor(value[:min_len])\n",
    "\tfor key, value in test_chorales.items():\n",
    "\t\ttest_chorales[key] = torch.Tensor(value[:min_len])\n",
    "\n",
    "\ttrain_chorales = torch.stack([chorale for chorale in train_chorales.values()])\n",
    "\n",
    "\treturn train_chorales, test_chorales, min_len\n",
    "\n",
    "\n",
    "train_chorales, test_chorales, min_len = process_notes()"
   ],
   "metadata": {
    "collapsed": false,
    "pycharm": {
     "name": "#%%\n"
    }
   }
  },
  {
   "cell_type": "code",
   "execution_count": 60,
   "outputs": [],
   "source": [
    "# stacked = torch.cat((UCI_chorales, rand_chorales))\n",
    "labels = torch.cat((torch.ones((1, 100, 1)), torch.zeros((1, 100, 1))), dim=1)"
   ],
   "metadata": {
    "collapsed": false,
    "pycharm": {
     "name": "#%%\n"
    }
   }
  },
  {
   "cell_type": "code",
   "execution_count": 21,
   "outputs": [],
   "source": [
    "batch_size = 32\n",
    "im_size = 512\n",
    "CHORALE_IDX = 0\n",
    "NCHORALE_IDX = 1"
   ],
   "metadata": {
    "collapsed": false,
    "pycharm": {
     "name": "#%%\n",
     "is_executing": false
    }
   }
  },
  {
   "cell_type": "code",
   "execution_count": 25,
   "outputs": [],
   "source": [
    "def sigmoid(x):\n",
    "\treturn 1 / (1 + np.exp(-x))\n",
    "\n",
    "def test_model(model, loader):\n",
    "\tresults = {}\n",
    "\n",
    "\tfor num, (img, label) in enumerate(loader):\n",
    "\t\tresult = model(img.view(1, -1, min_len).to(torch.float).to(device))\n",
    "\t\tprediction = result.cpu().numpy().flatten()\n",
    "\t\tresults[label[0]] = sigmoid(prediction)\n",
    "\n",
    "\treturn results"
   ],
   "metadata": {
    "collapsed": false,
    "pycharm": {
     "name": "#%%\n",
     "is_executing": false
    }
   }
  },
  {
   "cell_type": "code",
   "execution_count": 26,
   "outputs": [],
   "source": [
    "def train_model(res_size):\n",
    "\ttorch.cuda.empty_cache()\n",
    "\tesn = LiESN(\n",
    "\t\tinput_dim=min_len,\n",
    "\t\thidden_dim=res_size,\n",
    "\t\toutput_dim=1,\n",
    "\t\tw_generator=UniformMatrixGenerator(),\n",
    "\t\twbias_generator=UniformMatrixGenerator(),\n",
    "\t\twin_generator=UniformMatrixGenerator(),\n",
    "\t\tlearning_algo='pinv',\n",
    "\t\tnonlin_func=torch.sigmoid,\n",
    "\t\tleaky_rate=0.9,\n",
    "\t\tridge_param=0.25\n",
    "\t).to(device)\n",
    "\n",
    "\t# for input, label in train_loader:\n",
    "\tinput = stacked.view(1, -1, min_len).to(torch.float).to(device)\n",
    "\tlabel = train_labels.view(1, -1, 1).to(torch.float).to(device)\n",
    "\tesn(input, label)\n",
    "\treturn esn"
   ],
   "metadata": {
    "collapsed": false,
    "pycharm": {
     "name": "#%%\n",
     "is_executing": false
    }
   }
  },
  {
   "cell_type": "code",
   "execution_count": null,
   "outputs": [],
   "source": [
    "def print_scores(results):\n",
    "\tmean_scores = {'boring': 0, 'random': 0, 'comp': 0, 'chorale': 0}\n",
    "\ttotals = {'boring': 0, 'random': 0, 'comp': 0, 'chorale': 0}\n",
    "\tfor (file, score) in results.items():\n",
    "\t\tif file.startswith('rand'):\n",
    "\t\t\ttotals['random'] += 1\n",
    "\t\t\tmean_scores['random'] += score.item()\n",
    "\t\tif file.startswith('boring'):\n",
    "\t\t\ttotals['boring'] += 1\n",
    "\t\t\tmean_scores['boring'] += score.item()\n",
    "\t\tif file.startswith('comp'):\n",
    "\t\t\ttotals['comp'] += 1\n",
    "\t\t\tmean_scores['comp'] += score.item()\n",
    "\t\telse:\n",
    "\t\t\ttotals['chorale'] += 1\n",
    "\t\t\tmean_scores['chorale'] += score.item()\n",
    "\t\n",
    "\tfor key in ['boring', 'random', 'comp', 'chorale']:\n",
    "\t\tmean_scores[key] /= totals[key]\n",
    "\t\n",
    "\tif totals['boring'] > 0:\n",
    "\t\tprint(f\"Boring: {round(mean_scores['boring'],5)}\")\n",
    "\tif totals['random'] > 0:\n",
    "\t\tprint(f\"Random: {round(mean_scores['random'],5)}\")\n",
    "\tif totals['comp'] > 0:\n",
    "\t\tprint(f\"Composed: {round(mean_scores['comp'],5)}\")\n",
    "\tif totals['chorale'] > 0:\n",
    "\t\tprint(f\"Chorale: {round(mean_scores['chorale'],5)}\")\n",
    "\n",
    "\treturn mean_scores\n",
    "\n",
    "def print_results(results):\n",
    "\tpredictions = {}\n",
    "\tfor (file, result) in results.items():\n",
    "\t\tpredictions[file] = softmax(result).flatten()\n",
    "\t\tpredictions[file] = 'Chorale' if np.argmax(predictions[file], 0) == CHORALE_IDX else 'Not chorale'\n",
    "\n",
    "\taccuracy = {'boring': 0, 'random': 0, 'comp': 0, 'chorale': 0}\n",
    "\ttotals = {'boring': 0, 'random': 0, 'comp': 0, 'chorale': 0}\n",
    "\tfor (file, pred) in predictions.items():\n",
    "\t\tif file.startswith('rand'):\n",
    "\t\t\ttotals['random'] += 1\n",
    "\t\t\taccuracy['random'] += pred == 'Not chorale'\n",
    "\t\tif file.startswith('boring'):\n",
    "\t\t\ttotals['boring'] += 1\n",
    "\t\t\taccuracy['boring'] += pred == 'Not chorale'\n",
    "\t\tif file.startswith('comp'):\n",
    "\t\t\ttotals['comp'] += 1\n",
    "\t\t\taccuracy['comp'] += pred == 'Chorale'\n",
    "\t\telse:\n",
    "\t\t\ttotals['chorale'] += 1\n",
    "\t\t\taccuracy['chorale'] += pred == 'Chorale'\n",
    "\n",
    "\tif totals['boring'] > 0:\n",
    "\t\tprint(f\"Classified {accuracy['boring']}/{totals['boring']} ({round(100*accuracy['boring']/totals['boring'],2)}%) boring compositions as not chorales\")\n",
    "\tif totals['random'] > 0:\n",
    "\t\tprint(f\"Classified {accuracy['random']}/{totals['random']} ({round(100*accuracy['random']/totals['random'],2)}%) random compositions as not chorales\")\n",
    "\tif totals['comp'] > 0:\n",
    "\t\tprint(f\"Classified {accuracy['comp']}/{totals['comp']} ({round(100*accuracy['comp']/totals['comp'],2)}%) composition as chorales\")\n",
    "\tif totals['chorale'] > 0:\n",
    "\t\tprint(f\"Classified {accuracy['chorale']}/{totals['chorale']} ({round(100*accuracy['chorale']/totals['chorale'],2)}%) dataset chorales as chorales\")\n",
    "\n",
    "\treturn accuracy, totals"
   ],
   "metadata": {
    "collapsed": false,
    "pycharm": {
     "name": "#%%\n",
     "is_executing": false
    }
   }
  }
 ],
 "metadata": {
  "kernelspec": {
   "display_name": "Python 3",
   "language": "python",
   "name": "python3"
  },
  "language_info": {
   "codemirror_mode": {
    "name": "ipython",
    "version": 2
   },
   "file_extension": ".py",
   "mimetype": "text/x-python",
   "name": "python",
   "nbconvert_exporter": "python",
   "pygments_lexer": "ipython2",
   "version": "2.7.6"
  },
  "pycharm": {
   "stem_cell": {
    "cell_type": "raw",
    "source": [],
    "metadata": {
     "collapsed": false
    }
   }
  }
 },
 "nbformat": 4,
 "nbformat_minor": 0
}