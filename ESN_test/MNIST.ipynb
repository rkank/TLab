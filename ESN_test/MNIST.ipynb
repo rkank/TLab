{
 "cells": [
  {
   "cell_type": "code",
   "execution_count": 1,
   "metadata": {
    "collapsed": true
   },
   "outputs": [],
   "source": [
    "import argparse\n",
    "import numpy as np\n",
    "import torch\n",
    "import torch.nn as nn\n",
    "import torch.optim as optim\n",
    "from torch.utils.data import Dataset, DataLoader\n",
    "from torchvision import datasets, transforms\n",
    "from tqdm.notebook import trange\n",
    "import ESN\n",
    "from scipy.special import softmax\n",
    "from multiprocessing import Process, Manager, Pool\n",
    "import matplotlib.pyplot as plt\n",
    "# from torch.optim.lr_scheduler import StepLR"
   ]
  },
  {
   "cell_type": "code",
   "execution_count": 2,
   "outputs": [],
   "source": [
    "kwargs = {'num_workers': 1, 'pin_memory': True}\n",
    "\n",
    "train_dataset = datasets.MNIST('../data', train=True, download=True,\n",
    "                       transform=transforms.Compose([\n",
    "                           transforms.ToTensor(),\n",
    "                           transforms.Normalize((0.1307,), (0.3081,))\n",
    "                       ]))\n",
    "\n",
    "test_dataset = datasets.MNIST('../data', train=False, transform=transforms.Compose([\n",
    "                           transforms.ToTensor(),\n",
    "                           transforms.Normalize((0.1307,), (0.3081,))\n",
    "                       ]))\n",
    "\n",
    "train_loader = DataLoader(train_dataset, batch_size=1, shuffle=True, **kwargs)\n",
    "test_loader = torch.utils.data.DataLoader(test_dataset, batch_size=1, shuffle=True, **kwargs)"
   ],
   "metadata": {
    "collapsed": false,
    "pycharm": {
     "name": "#%%\n"
    }
   }
  },
  {
   "cell_type": "code",
   "execution_count": 3,
   "outputs": [],
   "source": [
    "train_imgs = np.zeros((60000, 28*28))\n",
    "train_labels = np.zeros((60000, 10))\n",
    "\n",
    "for batch_num, (data, label) in enumerate(train_loader):\n",
    "\timg = torch.flatten(data)\n",
    "\ttrain_imgs[batch_num] = img\n",
    "\ttrain_labels[batch_num] = np.zeros(10)\n",
    "\ttrain_labels[batch_num][label] = 1\n",
    "\n",
    "test_imgs = np.zeros((10000, 28*28))\n",
    "test_labels = np.zeros((10000, 1))\n",
    "\n",
    "for batch_num, (data, label) in enumerate(test_loader):\n",
    "\timg = torch.flatten(data)\n",
    "\ttest_imgs[batch_num] = img\n",
    "\ttest_labels[batch_num] = label"
   ],
   "metadata": {
    "collapsed": false,
    "pycharm": {
     "name": "#%%\n"
    }
   }
  },
  {
   "cell_type": "code",
   "execution_count": 4,
   "outputs": [],
   "source": [
    "def train_reservoir(RES_SIZE, ALPHA, SPARSITY):\n",
    "\tEcho = ESN.ESN(inSize=28*28, outSize=10, resSize=RES_SIZE, alpha=ALPHA, sparsity=SPARSITY)\n",
    "\tRA_Train  = Echo.reservoir(train_imgs)\n",
    "\tWout = np.dot(np.linalg.pinv(RA_Train), train_labels)\n",
    "\n",
    "\tRA_Test = Echo.reservoir(test_imgs, new_start=True)\n",
    "\tYhat = np.dot(RA_Test, Wout)\n",
    "\n",
    "\taccuracy = 0\n",
    "\tpredictions = np.zeros(10000)\n",
    "\tfor num, line in enumerate(Yhat):\n",
    "\t\tYhat[num] = softmax(line)\n",
    "\t\tpredictions[num] = np.argmax(Yhat[num], 0)\n",
    "\n",
    "\t\taccuracy += predictions[num] == test_labels[num]\n",
    "\n",
    "\treturn 100 * accuracy / 10000"
   ],
   "metadata": {
    "collapsed": false,
    "pycharm": {
     "name": "#%%\n"
    }
   }
  },
  {
   "cell_type": "code",
   "execution_count": 5,
   "outputs": [],
   "source": [
    "result = train_reservoir(10000, 0.9, 0.25)"
   ],
   "metadata": {
    "collapsed": false,
    "pycharm": {
     "name": "#%%\n"
    }
   }
  },
  {
   "cell_type": "code",
   "execution_count": 6,
   "outputs": [],
   "source": [
    "# results = []\n",
    "#\n",
    "# # RES_SIZE = 1000\n",
    "# ALPHA = 0.9\n",
    "# SPARSITY = 0.25\n",
    "# for RES_SIZE in trange(1500, 5000, 100):\n",
    "# \t# for ALPHA in np.arange(0.70, 0.95, 0.05):\n",
    "# \t# \tfor SPARSITY in np.arange(0.05, 0.25, 0.05):\n",
    "# \ttry:\n",
    "# \t\toutput = train_reservoir(RES_SIZE, ALPHA, SPARSITY)\n",
    "# \t\tresults.append({(RES_SIZE, ALPHA, SPARSITY) : output})\n",
    "# \t\tprint(f'{RES_SIZE} nodes: {output[0]}')\n",
    "# \texcept Exception as e:\n",
    "# \t\tpass"
   ],
   "metadata": {
    "collapsed": false,
    "pycharm": {
     "name": "#%%\n"
    }
   }
  }
 ],
 "metadata": {
  "kernelspec": {
   "display_name": "Python 3",
   "language": "python",
   "name": "python3"
  },
  "language_info": {
   "codemirror_mode": {
    "name": "ipython",
    "version": 2
   },
   "file_extension": ".py",
   "mimetype": "text/x-python",
   "name": "python",
   "nbconvert_exporter": "python",
   "pygments_lexer": "ipython2",
   "version": "2.7.6"
  }
 },
 "nbformat": 4,
 "nbformat_minor": 0
}