{
 "cells": [
  {
   "cell_type": "code",
   "execution_count": 1,
   "metadata": {
    "collapsed": true,
    "pycharm": {
     "is_executing": false
    }
   },
   "outputs": [],
   "source": [
    "import numpy as np\n",
    "import matplotlib.pyplot as plt\n",
    "import scipy.spatial.distance as dist\n",
    "from scipy.stats import pearsonr, spearmanr, wasserstein_distance, chisquare\n",
    "\n",
    "from mido import MidiFile, MidiTrack, Message\n",
    "import glob, random\n",
    "from copy import deepcopy\n",
    "from tqdm import trange\n",
    "from numpy import isnan, isinf"
   ]
  },
  {
   "cell_type": "code",
   "execution_count": 2,
   "outputs": [],
   "source": [
    "# A = np.random.random((10, 1))\n",
    "# hist_A = np.histogram(A, bins=[0, 0.1, 0.2, 0.3, 0.4, 0.5, 0.6, 0.7, 0.8, 0.9, 1.0])\n",
    "# B = np.random.random((10, 1))\n",
    "# hist_B = np.histogram(B, bins=[0, 0.1, 0.2, 0.3, 0.4, 0.5, 0.6, 0.7, 0.8, 0.9, 1.0])\n",
    "# \n",
    "# # corr = dist.correlation(hist_A[0], hist_B[0])\n",
    "# # cosine = dist.cosine(hist_A[0], hist_B[0])\n",
    "# # pearson, _ = pearsonr(hist_A[0], hist_B[0])\n",
    "# # spearman, _ = spearmanr(hist_A[0], hist_B[0])\n",
    "# # chisq = chisquared(hist_A[0], hist_B[0])\n",
    "# emd = wasserstein_distance(hist_A[0], hist_B[0])\n",
    "# bhat = bhattacharya(hist_A[0], hist_B[0])"
   ],
   "metadata": {
    "collapsed": false,
    "pycharm": {
     "name": "#%%\n",
     "is_executing": false
    }
   }
  },
  {
   "cell_type": "code",
   "execution_count": 3,
   "outputs": [],
   "source": [
    "chorale_hists = {}\n",
    "chorale_files = glob.glob('../HyperDimensional/Datasets/Unprocessed/Chorales/MIDI/UCI/*.mid')\n",
    "min = 100\n",
    "max = 0\n",
    "diff_min = 100\n",
    "diff_max = 0\n",
    "\n",
    "for chorale_num, chorale in enumerate(chorale_files):\n",
    "\tchorale = MidiFile(chorale)\n",
    "\n",
    "\t# note_freqs = {}\n",
    "\tnotes = []\n",
    "\tdiffs = []\n",
    "\tprev_note = None\n",
    "\tfor num, message in enumerate(chorale.tracks[0]):\n",
    "\t\tif message.type == 'note_on' and message.note != 0 and message.velocity != 0:\n",
    "\t\t\tnotes.append(message.note)\n",
    "\t\t\t\n",
    "\t\t\tif prev_note is None:\n",
    "\t\t\t\tprev_note = message.note\n",
    "\t\t\telse:\n",
    "\t\t\t\tdiff = message.note - prev_note\n",
    "\t\t\t\tprev_note = message.note\n",
    "\t\t\t\tdiffs.append(diff)\n",
    "\t\t\t\t\n",
    "\t\t\t\tif diff < diff_min:\n",
    "\t\t\t\t\tdiff_min = diff\n",
    "\t\t\t\tif diff > diff_max:\n",
    "\t\t\t\t\tdiff_max = diff\n",
    "\n",
    "\t\t\tif message.note < min:\n",
    "\t\t\t\tmin = message.note\n",
    "\t\t\tif message.note > max:\n",
    "\t\t\t\tmax = message.note\n",
    "\n",
    "\tfilename = chorale.filename.split('\\\\')[1].split('.mid')[0]\n",
    "\tchorale_hists[filename] = (notes, diffs)\n",
    "\tchorale_hists['min'] = (min, diff_min)\n",
    "\tchorale_hists['max'] = (max, diff_max)"
   ],
   "metadata": {
    "collapsed": false,
    "pycharm": {
     "name": "#%%\n",
     "is_executing": false
    }
   }
  },
  {
   "cell_type": "code",
   "execution_count": 4,
   "outputs": [],
   "source": [
    "boring_hists = {}\n",
    "chorale_files = glob.glob('../HyperDimensional/Datasets/Unprocessed/Chorales/MIDI/BoringChorales/*.mid')\n",
    "min = 100\n",
    "max = 0\n",
    "diff_min = 100\n",
    "diff_max = 0\n",
    "\n",
    "for chorale_num, chorale in enumerate(chorale_files):\n",
    "\tchorale = MidiFile(chorale)\n",
    "\n",
    "\t# note_freqs = {}\n",
    "\tnotes = []\n",
    "\tdiffs = []\n",
    "\tprev_note = None\n",
    "\tfor num, message in enumerate(chorale.tracks[0]):\n",
    "\t\tif message.type == 'note_on' and message.note != 0 and message.velocity != 0:\n",
    "\t\t\tnotes.append(message.note)\n",
    "\t\t\t\n",
    "\t\t\tif prev_note is None:\n",
    "\t\t\t\tprev_note = message.note\n",
    "\t\t\telse:\n",
    "\t\t\t\tdiff = message.note - prev_note\n",
    "\t\t\t\tprev_note = message.note\n",
    "\t\t\t\tdiffs.append(diff)\n",
    "\t\t\t\t\n",
    "\t\t\t\tif diff < diff_min:\n",
    "\t\t\t\t\tdiff_min = diff\n",
    "\t\t\t\tif diff > diff_max:\n",
    "\t\t\t\t\tdiff_max = diff\n",
    "\n",
    "\t\t\tif message.note < min:\n",
    "\t\t\t\tmin = message.note\n",
    "\t\t\tif message.note > max:\n",
    "\t\t\t\tmax = message.note\n",
    "\n",
    "\tfilename = chorale.filename.split('\\\\')[1].split('.mid')[0]\n",
    "\tboring_hists[filename] = (notes, diffs)\n",
    "\tboring_hists['min'] = (min, diff_min)\n",
    "\tboring_hists['max'] = (max, diff_max)"
   ],
   "metadata": {
    "collapsed": false,
    "pycharm": {
     "name": "#%%\n",
     "is_executing": false
    }
   }
  },
  {
   "cell_type": "code",
   "execution_count": 5,
   "outputs": [],
   "source": [
    "random_hists = {}\n",
    "chorale_files = glob.glob('../HyperDimensional/Datasets/Unprocessed/Chorales/MIDI/RandomChorales/*.mid')\n",
    "min = 100\n",
    "max = 0\n",
    "diff_min = 100\n",
    "diff_max = 0\n",
    "\n",
    "for chorale_num, chorale in enumerate(chorale_files):\n",
    "\tchorale = MidiFile(chorale)\n",
    "\n",
    "\t# note_freqs = {}\n",
    "\tnotes = []\n",
    "\tdiffs = []\n",
    "\tprev_note = None\n",
    "\tfor num, message in enumerate(chorale.tracks[0]):\n",
    "\t\tif message.type == 'note_on' and message.note != 0 and message.velocity != 0:\n",
    "\t\t\tnotes.append(message.note)\n",
    "\t\t\t\n",
    "\t\t\tif prev_note is None:\n",
    "\t\t\t\tprev_note = message.note\n",
    "\t\t\telse:\n",
    "\t\t\t\tdiff = message.note - prev_note\n",
    "\t\t\t\tprev_note = message.note\n",
    "\t\t\t\tdiffs.append(diff)\n",
    "\t\t\t\t\n",
    "\t\t\t\tif diff < diff_min:\n",
    "\t\t\t\t\tdiff_min = diff\n",
    "\t\t\t\tif diff > diff_max:\n",
    "\t\t\t\t\tdiff_max = diff\n",
    "\n",
    "\t\t\tif message.note < min:\n",
    "\t\t\t\tmin = message.note\n",
    "\t\t\tif message.note > max:\n",
    "\t\t\t\tmax = message.note\n",
    "\n",
    "\tfilename = chorale.filename.split('\\\\')[1].split('.mid')[0]\n",
    "\trandom_hists[filename] = (notes, diffs)\n",
    "\trandom_hists['min'] = (min, diff_min)\n",
    "\trandom_hists['max'] = (max, diff_max)"
   ],
   "metadata": {
    "collapsed": false,
    "pycharm": {
     "name": "#%%\n",
     "is_executing": false
    }
   }
  },
  {
   "cell_type": "code",
   "execution_count": 6,
   "outputs": [],
   "source": [
    "composed_hists = {}\n",
    "chorale_files = glob.glob('../HyperDimensional/Datasets/Unprocessed/Chorales/MIDI/ComposedChorales/*.mid')\n",
    "min = 100\n",
    "max = 0\n",
    "diff_min = 100\n",
    "diff_max = 0\n",
    "\n",
    "for chorale_num, chorale in enumerate(chorale_files):\n",
    "\tchorale = MidiFile(chorale)\n",
    "\n",
    "\t# note_freqs = {}\n",
    "\tnotes = []\n",
    "\tdiffs = []\n",
    "\tprev_note = None\n",
    "\tfor num, message in enumerate(chorale.tracks[0]):\n",
    "\t\tif message.type == 'note_on' and message.note != 0 and message.velocity != 0:\n",
    "\t\t\tnotes.append(message.note)\n",
    "\t\t\t\n",
    "\t\t\tif prev_note is None:\n",
    "\t\t\t\tprev_note = message.note\n",
    "\t\t\telse:\n",
    "\t\t\t\tdiff = message.note - prev_note\n",
    "\t\t\t\tprev_note = message.note\n",
    "\t\t\t\tdiffs.append(diff)\n",
    "\t\t\t\t\n",
    "\t\t\t\tif diff < diff_min:\n",
    "\t\t\t\t\tdiff_min = diff\n",
    "\t\t\t\tif diff > diff_max:\n",
    "\t\t\t\t\tdiff_max = diff\n",
    "\n",
    "\t\t\tif message.note < min:\n",
    "\t\t\t\tmin = message.note\n",
    "\t\t\tif message.note > max:\n",
    "\t\t\t\tmax = message.note\n",
    "\n",
    "\tfilename = chorale.filename.split('\\\\')[1].split('.mid')[0]\n",
    "\tcomposed_hists[filename] = (notes, diffs)\n",
    "\tcomposed_hists['min'] = (min, diff_min)\n",
    "\tcomposed_hists['max'] = (max, diff_max)"
   ],
   "metadata": {
    "collapsed": false,
    "pycharm": {
     "name": "#%%\n",
     "is_executing": false
    }
   }
  },
  {
   "cell_type": "code",
   "execution_count": 7,
   "outputs": [],
   "source": [
    "# print(random_hists['min'], random_hists['max'])\n",
    "# print(boring_hists['min'], boring_hists['max'])\n",
    "# print(chorale_hists['min'], chorale_hists['max'])\n",
    "# print(composed_hists['min'], composed_hists['max'])\n",
    "\n",
    "del random_hists['min'], random_hists['max']\n",
    "del boring_hists['min'], boring_hists['max']\n",
    "del chorale_hists['min'], chorale_hists['max']\n",
    "del composed_hists['min'], composed_hists['max']"
   ],
   "metadata": {
    "collapsed": false,
    "pycharm": {
     "name": "#%%\n",
     "is_executing": false
    }
   }
  },
  {
   "cell_type": "code",
   "execution_count": 8,
   "outputs": [],
   "source": [
    "boring_diffs = deepcopy(boring_hists)\n",
    "random_diffs = deepcopy(random_hists)\n",
    "chorale_diffs = deepcopy(chorale_hists)\n",
    "composed_diffs = deepcopy(composed_hists)\n",
    "\n",
    "for file in boring_hists.keys():\n",
    "\tboring_diffs[file] = np.histogram(np.asarray(boring_hists[file][1]), bins=range(-19, 20))\n",
    "\n",
    "for file in random_hists.keys():\n",
    "\trandom_diffs[file] = np.histogram(np.asarray(random_hists[file][1]), bins=range(-19, 20))\n",
    "\n",
    "for file in chorale_hists.keys():\n",
    "\tchorale_diffs[file] = np.histogram(np.asarray(chorale_hists[file][1]), bins=range(-19, 20))\n",
    "\n",
    "for file in composed_hists.keys():\n",
    "\tcomposed_diffs[file] = np.histogram(np.asarray(composed_hists[file][1]), bins=range(-19, 20))\n",
    "\n",
    "for file in boring_hists.keys():\n",
    "\tboring_hists[file] = np.histogram(np.asarray(boring_hists[file][0]), bins=range(60, 80))\n",
    "\n",
    "for file in random_hists.keys():\n",
    "\trandom_hists[file] = np.histogram(np.asarray(random_hists[file][0]), bins=range(60, 80))\n",
    "\n",
    "for file in chorale_hists.keys():\n",
    "\tchorale_hists[file] = np.histogram(np.asarray(chorale_hists[file][0]), bins=range(60, 80))\n",
    "\n",
    "for file in composed_hists.keys():\n",
    "\tcomposed_hists[file] = np.histogram(np.asarray(composed_hists[file][0]), bins=range(60, 80))\n",
    "\t\n"
   ],
   "metadata": {
    "collapsed": false,
    "pycharm": {
     "name": "#%%\n",
     "is_executing": false
    }
   }
  },
  {
   "cell_type": "code",
   "execution_count": 9,
   "outputs": [
    {
     "name": "stderr",
     "text": [
      "C:\\Users\\ruchi\\Anaconda3\\envs\\EE510\\lib\\site-packages\\scipy\\spatial\\distance.py:728: RuntimeWarning: invalid value encountered in double_scalars\n",
      "  dist = 1.0 - uv / np.sqrt(uu * vv)\n"
     ],
     "output_type": "stream"
    }
   ],
   "source": [
    "def chisquared(H1: np.ndarray, H2: np.ndarray) -> float:\n",
    "\tassert(H1.size == H2.size)\n",
    "\t\n",
    "\tdist = 0.0\n",
    "\tfor value in range(H1.size):\n",
    "\t\tdist += pow(H1[value] - H2[value], 2) / (H1[value] + H2[value])\n",
    "\t\t\n",
    "\treturn dist\n",
    "\n",
    "\n",
    "def bhattacharya(H1: np.ndarray, H2: np.ndarray) -> float:\n",
    "\tassert(H1.size == H2.size)\n",
    "\t\n",
    "\tdist = 0.0\n",
    "\tfor value in range(H1.size):\n",
    "\t\tdist += np.sqrt(H1[value] * H2[value])\n",
    "\t\t\n",
    "\t# dist = -np.log(dist)\n",
    "\t\t\n",
    "\treturn dist\n",
    "\n",
    "\n",
    "def kl_divergence(H1: np.ndarray, H2: np.ndarray) -> float:\n",
    "\tassert(H1.size == H2.size)\n",
    "\treturn sum(H1[i] * np.log2(H1[i]/H2[i]) for i in range(H1.size))\n",
    "\n",
    "\n",
    "def get_dists(hists_A, hists_B):\n",
    "\tcos = 0\n",
    "\temd = 0\n",
    "\tbhat = 0\n",
    "\teucl = 0\n",
    "\tcount = 0\n",
    "\n",
    "\tfor hist_A in hists_A.values():\n",
    "\t\tfor hist_B in hists_B.values():\n",
    "\t\t\tcount += 1\n",
    "\t\t\tcos_dist = dist.cosine(hist_A[0], hist_B[0])\n",
    "\t\t\tcos += cos_dist if not isnan(cos_dist) and not isinf(cos_dist) else 0\n",
    "\t\t\tbhat += bhattacharya(hist_A[0], hist_B[0])\n",
    "\t\t\teucl += dist.euclidean(hist_A[0], hist_B[0])\n",
    "\t\t\temd += wasserstein_distance(hist_A[0], hist_B[0])\n",
    "\n",
    "\treturn {'eucl': eucl/count, 'bhat': bhat/count, 'emd': emd/count, 'cos': cos/count}\n",
    "\n",
    "\n",
    "dist_composed_chorale = get_dists(composed_hists, chorale_hists)\n",
    "dist_chorale_random = get_dists(random_hists, chorale_hists)\n",
    "dist_chorale_boring = get_dists(boring_hists, chorale_hists)\n",
    "dist_chorale_chorale = get_dists(chorale_hists, chorale_hists)\n",
    "\n",
    "diff_composed_chorale = get_dists(composed_diffs, chorale_diffs)\n",
    "diff_chorale_random = get_dists(random_diffs, chorale_diffs)\n",
    "diff_chorale_boring = get_dists(boring_diffs, chorale_diffs)\n",
    "diff_chorale_chorale = get_dists(chorale_diffs, chorale_diffs)"
   ],
   "metadata": {
    "collapsed": false,
    "pycharm": {
     "name": "#%%\n",
     "is_executing": false
    }
   }
  },
  {
   "cell_type": "code",
   "execution_count": 33,
   "outputs": [],
   "source": [
    "labels = ['ChCo', 'ChB', 'ChR', 'ChCh']\n",
    "dists = [dist_composed_chorale, dist_chorale_boring, dist_chorale_random, dist_chorale_chorale]\n",
    "diffs = [diff_composed_chorale, diff_chorale_boring, diff_chorale_random, diff_chorale_chorale]\n",
    "\n",
    "dist_eucl = [dist['eucl'] for dist in dists]\n",
    "dist_bhat = [dist['bhat'] for dist in dists]\n",
    "dist_emd = [dist['emd'] for dist in dists]\n",
    "dist_cos = [dist['cos'] for dist in dists]\n",
    "\n",
    "diff_eucl = [diff['eucl'] for diff in diffs]\n",
    "diff_bhat = [diff['bhat'] for diff in diffs]\n",
    "diff_emd = [diff['emd'] for diff in diffs]\n",
    "diff_cos = [diff['cos'] for diff in diffs]"
   ],
   "metadata": {
    "collapsed": false,
    "pycharm": {
     "name": "#%%\n",
     "is_executing": false
    }
   }
  },
  {
   "cell_type": "code",
   "execution_count": 42,
   "outputs": [
    {
     "data": {
      "text/plain": "<Figure size 1080x720 with 4 Axes>",
      "image/png": "[encoded data removed]"
     },
     "metadata": {
      "needs_background": "light"
     },
     "output_type": "display_data"
    }
   ],
   "source": [
    "x = np.arange(len(labels))  # the label locations\n",
    "width = 0.35  # the width of the bars\n",
    "\n",
    "fig, ax = plt.subplots(2,2)\n",
    "rects1 = ax[0][0].bar(x, dist_eucl,  label='Euclidean')\n",
    "rects2 = ax[0][1].bar(x, dist_bhat,  label='Bhattacharyya')\n",
    "rects3 = ax[1][0].bar(x, dist_emd,  label='Earth Mover Distance')\n",
    "rects4 = ax[1][1].bar(x, dist_cos,  label='Cosine')\n",
    "\n",
    "# Add some text for labels, title and custom x-axis tick labels, etc.\n",
    "\n",
    "\n",
    "for axs in [ax[0][0], ax[0][1], ax[1][0], ax[1][1]]:\n",
    "\taxs.set_ylabel('Distance')\n",
    "\t# ax.set_title('Distance measure for chorales, compositions, random and boring samples')\n",
    "\taxs.set_xticks(x)\n",
    "\taxs.set_xticklabels(labels)\n",
    "\taxs.legend()\n",
    "\t\n",
    "ax[0][1].set_ylabel('Coefficient')\n",
    "\n",
    "# fig.tight_layout()\n",
    "fig.set_size_inches(15, 10)\n",
    "plt.savefig('Stat_Distances.jpg', dpi=100)"
   ],
   "metadata": {
    "collapsed": false,
    "pycharm": {
     "name": "#%%\n",
     "is_executing": false
    }
   }
  },
  {
   "cell_type": "code",
   "execution_count": 43,
   "outputs": [
    {
     "data": {
      "text/plain": "<Figure size 1080x720 with 4 Axes>",
      "image/png": "[encoded data removed]"
     },
     "metadata": {
      "needs_background": "light"
     },
     "output_type": "display_data"
    }
   ],
   "source": [
    "x = np.arange(len(labels))  # the label locations\n",
    "width = 0.35  # the width of the bars\n",
    "\n",
    "fig, ax = plt.subplots(2,2)\n",
    "rects1 = ax[0][0].bar(x, diff_eucl, label='Euclidean')\n",
    "rects2 = ax[0][1].bar(x, diff_bhat, label='Bhattacharyya')\n",
    "rects3 = ax[1][0].bar(x, diff_emd, label='Earth Mover Distance')\n",
    "rects4 = ax[1][1].bar(x, diff_cos, label='Cosine')\n",
    "\n",
    "# Add some text for labels, title and custom x-axis tick labels, etc.\n",
    "\n",
    "\n",
    "for axs in [ax[0][0], ax[0][1], ax[1][0], ax[1][1]]:\n",
    "\taxs.set_ylabel('Distance')\n",
    "\t# ax.set_title('Distance measure for chorales, compositions, random and boring samples')\n",
    "\taxs.set_xticks(x)\n",
    "\taxs.set_xticklabels(labels)\n",
    "\taxs.legend()\n",
    "\t\n",
    "ax[0][1].set_ylabel('Coefficient')\n",
    "\n",
    "# fig.tight_layout()\n",
    "fig.set_size_inches(15, 10)\n",
    "plt.savefig('Stat_Differences.jpg', dpi=100)\n"
   ],
   "metadata": {
    "collapsed": false,
    "pycharm": {
     "name": "#%%\n",
     "is_executing": false
    }
   }
  }
 ],
 "metadata": {
  "kernelspec": {
   "display_name": "Python 3",
   "language": "python",
   "name": "python3"
  },
  "language_info": {
   "codemirror_mode": {
    "name": "ipython",
    "version": 2
   },
   "file_extension": ".py",
   "mimetype": "text/x-python",
   "name": "python",
   "nbconvert_exporter": "python",
   "pygments_lexer": "ipython2",
   "version": "2.7.6"
  }
 },
 "nbformat": 4,
 "nbformat_minor": 0
}