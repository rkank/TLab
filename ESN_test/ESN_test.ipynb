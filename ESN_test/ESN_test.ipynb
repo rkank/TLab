{
 "cells": [
  {
   "cell_type": "code",
   "execution_count": 321,
   "metadata": {
    "collapsed": true,
    "pycharm": {
     "is_executing": false
    }
   },
   "outputs": [],
   "source": [
    "import numpy as np\n",
    "from scipy.sparse import random\n",
    "import matplotlib.pyplot as plot"
   ]
  },
  {
   "cell_type": "code",
   "execution_count": 322,
   "outputs": [],
   "source": [
    "V = 2 # number of features\n",
    "R = 20 # size of reservoir\n",
    "LEARN_TIME = 1#10\n",
    "READOUT_TIME = 1#50\n",
    "LEARNING_RATE = 0.001\n",
    "DENSITY = 0.25\n",
    "NUM_ITERATIONS = 100\n",
    "\n",
    "Wr = random(R, R, density=DENSITY).toarray()\n",
    "# Win = random(V, R, density=DENSITY).toarray()\n",
    "Win = np.random.random((V , R))\n",
    "W_readout = np.random.random((R + 1, 1))\n",
    "\n",
    "X = np.array([[0, 0, 1, 1], [0, 1, 0, 1]])\n",
    "h = np.random.random((R, 1))\n",
    "y = np.array([0, 0, 0, 1]) \n",
    "delta = []"
   ],
   "metadata": {
    "collapsed": false,
    "pycharm": {
     "name": "#%%\n",
     "is_executing": false
    }
   }
  },
  {
   "cell_type": "code",
   "execution_count": 323,
   "outputs": [],
   "source": [
    "def advance_state(activation_function):\n",
    "    global h, x, Win, Wr, delta\n",
    "    h_new = np.matmul(Win.transpose(), x) + np.matmul(Wr.transpose(), h)\n",
    "    h_new = activation_function(h_new)\n",
    "    delta.append(np.sum(h_new - h))\n",
    "    h = h_new"
   ],
   "metadata": {
    "collapsed": false,
    "pycharm": {
     "name": "#%%\n",
     "is_executing": false
    }
   }
  },
  {
   "cell_type": "code",
   "execution_count": 324,
   "outputs": [],
   "source": [
    "def relu(x):\n",
    "    if x > 0:\n",
    "\t    return x\n",
    "    else:\n",
    "        return 0\n",
    "    \n",
    "def linear(x):\n",
    "\treturn x\n",
    "\n",
    "def sigmoid(x):\n",
    "\treturn 1/(1 + np.exp(-x))"
   ],
   "metadata": {
    "collapsed": false,
    "pycharm": {
     "name": "#%%\n",
     "is_executing": false
    }
   }
  },
  {
   "cell_type": "code",
   "execution_count": 325,
   "outputs": [],
   "source": [
    "def forward(x):\n",
    "\tglobal Win, Wr, h\n",
    "\tpredict = np.matmul(Win.transpose(), x) + np.matmul(Wr.transpose(), h)\n",
    "\tpredict = np.vstack(([1], predict))\n",
    "\treturn np.matmul(W_readout.transpose(), predict)"
   ],
   "metadata": {
    "collapsed": false,
    "pycharm": {
     "name": "#%%\n",
     "is_executing": false
    }
   }
  },
  {
   "cell_type": "code",
   "execution_count": 326,
   "outputs": [
    {
     "data": {
      "text/plain": "<Figure size 432x288 with 1 Axes>",
      "image/png": "[encoded data removed]"
     },
     "metadata": {
      "needs_background": "light"
     },
     "output_type": "display_data"
    },
    {
     "name": "stdout",
     "text": [
      "0.08741698681449532 0.08105554654678801\n"
     ],
     "output_type": "stream"
    }
   ],
   "source": [
    "losses = []\n",
    "errors = []\n",
    "\n",
    "for epoch in range(NUM_ITERATIONS):\n",
    "\tpermutation = np.random.permutation(4)\n",
    "\t\n",
    "\tbatch_error = 0\n",
    "\t\n",
    "\tfor datapoint in permutation:\n",
    "\t\tx = X[:, datapoint].reshape(2, 1)\n",
    "\t\tlabel = y[datapoint]\n",
    "\t\t\n",
    "\t\tfor iteration in range(LEARN_TIME):\n",
    "\t\t    advance_state(sigmoid)\n",
    "\n",
    "\t\terror = 0\n",
    "\t\tfor iteration in range(READOUT_TIME):\n",
    "\t\t\tpredict = forward(x)\n",
    "\t\t\tbatch_error += 2 * (predict - label)\n",
    "\t\t\terrors.append(np.square(error).item(0))\n",
    "\t\t\n",
    "\tW_readout = W_readout - LEARNING_RATE * batch_error / (permutation.size * READOUT_TIME)\n",
    "\n",
    "\tloss = 0\n",
    "\tfor datapoint in range(4):\n",
    "\t\tx = X[:, datapoint].reshape(2, 1)\n",
    "\t\tloss += np.square(forward(x).item(0) - y[datapoint].item(0))\n",
    "\n",
    "\tlosses.append(loss / 4)\n",
    "\t\t\n",
    "plot.plot(losses)\n",
    "plot.yscale(\"log\")\n",
    "plot.show()\n",
    "\n",
    "print(losses[-1], min(losses))"
   ],
   "metadata": {
    "collapsed": false,
    "pycharm": {
     "name": "#%%\n",
     "is_executing": false
    }
   }
  },
  {
   "cell_type": "code",
   "execution_count": 327,
   "outputs": [],
   "source": [
    "def threshold(x, THRESHOLD):\n",
    "\tif x > THRESHOLD:\n",
    "\t\treturn 1\n",
    "\treturn 0"
   ],
   "metadata": {
    "collapsed": false,
    "pycharm": {
     "name": "#%%%\n",
     "is_executing": false
    }
   }
  },
  {
   "cell_type": "code",
   "execution_count": 328,
   "outputs": [
    {
     "name": "stdout",
     "text": [
      "[[0]\n",
      " [0]] [[0.00686242]] 0\n",
      "[[0]\n",
      " [1]] [[0.36753423]] 0\n",
      "[[1]\n",
      " [0]] [[0.2483578]] 0\n",
      "[[1]\n",
      " [1]] [[0.60902961]] 1\n"
     ],
     "output_type": "stream"
    }
   ],
   "source": [
    "for datapoint in range(4):\n",
    "\tx = X[:, datapoint].reshape(2,1)\n",
    "\tprint(x, forward(x), threshold(forward(x), 0.5))\n"
   ],
   "metadata": {
    "collapsed": false,
    "pycharm": {
     "name": "#%%\n",
     "is_executing": false
    }
   }
  }
 ],
 "metadata": {
  "kernelspec": {
   "name": "python3",
   "language": "python",
   "display_name": "Python 3"
  },
  "language_info": {
   "codemirror_mode": {
    "name": "ipython",
    "version": 2
   },
   "file_extension": ".py",
   "mimetype": "text/x-python",
   "name": "python",
   "nbconvert_exporter": "python",
   "pygments_lexer": "ipython2",
   "version": "2.7.6"
  },
  "pycharm": {
   "stem_cell": {
    "cell_type": "raw",
    "source": [],
    "metadata": {
     "collapsed": false
    }
   }
  }
 },
 "nbformat": 4,
 "nbformat_minor": 0
}