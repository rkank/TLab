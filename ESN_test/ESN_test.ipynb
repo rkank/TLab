{
 "cells": [
  {
   "cell_type": "code",
   "execution_count": 113,
   "metadata": {
    "collapsed": true,
    "pycharm": {
     "is_executing": false
    }
   },
   "outputs": [],
   "source": [
    "import numpy as np\n",
    "from scipy.sparse import random\n",
    "import matplotlib.pyplot as plot"
   ]
  },
  {
   "cell_type": "code",
   "execution_count": 114,
   "outputs": [],
   "source": [
    "V = 2 # number of features\n",
    "R = 10 # size of reservoir\n",
    "LEARN_TIME = 10\n",
    "READOUT_TIME = 50\n",
    "LEARNING_RATE = 0.01\n",
    "DENSITY = 0.25\n",
    "NUM_ITERATIONS = 1000\n",
    "\n",
    "Wr = random(R, R, density=DENSITY).toarray()\n",
    "# Win = random(V, R, density=DENSITY).toarray()\n",
    "Win = np.random.random((V + 1 , R))\n",
    "W_readout = np.random.random((R + 1, 1))\n",
    "W_PLA = np.random.random((V + 1, 1))\n",
    "\n",
    "X = np.array([[0, 0, 1, 1], [0, 1, 0, 1]])\n",
    "h = np.random.random((R, 1))\n",
    "y = np.array([0, 1, 1, 0]) \n",
    "delta = []"
   ],
   "metadata": {
    "collapsed": false,
    "pycharm": {
     "name": "#%%\n",
     "is_executing": false
    }
   }
  },
  {
   "cell_type": "code",
   "execution_count": 115,
   "outputs": [],
   "source": [
    "def advance_state(activation_function, h, x, Win, Wr, delta):\n",
    "    h_new = np.matmul(Win.transpose(), x) + np.matmul(Wr.transpose(), h)\n",
    "    h_new = activation_function(h_new)\n",
    "    delta.append(np.sum(h_new - h))\n",
    "    return h_new"
   ],
   "metadata": {
    "collapsed": false,
    "pycharm": {
     "name": "#%%\n",
     "is_executing": false
    }
   }
  },
  {
   "cell_type": "code",
   "execution_count": 116,
   "outputs": [],
   "source": [
    "def relu(x):\n",
    "    if x > 0:\n",
    "\t    return x\n",
    "    else:\n",
    "        return 0\n",
    "    \n",
    "def linear(x):\n",
    "\treturn x\n",
    "\n",
    "def sigmoid(x):\n",
    "\treturn 1/(1 + np.exp(-x))\n",
    "\n",
    "\n",
    "def threshold(x, THRESHOLD):\n",
    "\tif x > THRESHOLD:\n",
    "\t\treturn 1\n",
    "\treturn 0"
   ],
   "metadata": {
    "collapsed": false,
    "pycharm": {
     "name": "#%%\n",
     "is_executing": false
    }
   }
  },
  {
   "cell_type": "code",
   "execution_count": 117,
   "outputs": [],
   "source": [
    "def forward(x, Win, Wr, h):\n",
    "\tpredict = np.matmul(Win.transpose(), x) + np.matmul(Wr.transpose(), h)\n",
    "\tpredict = np.vstack(([1], predict))\n",
    "\treturn np.matmul(W_readout.transpose(), predict)\n",
    "\n",
    "def readout_inputs(x, Win, Wr, h): \n",
    "\tpredict = np.matmul(Win.transpose(), x) + np.matmul(Wr.transpose(), h)\n",
    "\tpredict = np.vstack(([1], predict))\n",
    "\treturn predict\n",
    "\n",
    "def readout_forward(x, W_readout, Win):\n",
    "\tpredict = np.matmul(Win.transpose(), np.vstack(([1], x)))\n",
    "\tpredict = np.matmul(W_readout.transpose(), np.vstack(([1], predict)))\n",
    "\treturn predict"
   ],
   "metadata": {
    "collapsed": false,
    "pycharm": {
     "name": "#%%\n",
     "is_executing": false
    }
   }
  },
  {
   "cell_type": "code",
   "execution_count": 118,
   "outputs": [
    {
     "data": {
      "text/plain": "<Figure size 432x288 with 1 Axes>",
      "image/png": "[encoded data removed]"
     },
     "metadata": {
      "needs_background": "light"
     },
     "output_type": "display_data"
    },
    {
     "name": "stdout",
     "text": [
      "0.25059163105111293 0.25015018126779925\n",
      "[[1]\n",
      " [0]\n",
      " [0]] [[0.53916125]] 1\n",
      "[[1]\n",
      " [0]\n",
      " [1]] [[0.52396482]] 1\n",
      "[[1]\n",
      " [1]\n",
      " [0]] [[0.51605819]] 1\n",
      "[[1]\n",
      " [1]\n",
      " [1]] [[0.50086175]] 1\n"
     ],
     "output_type": "stream"
    }
   ],
   "source": [
    "losses = []\n",
    "errors = []\n",
    "\n",
    "for epoch in range(NUM_ITERATIONS):\n",
    "\tpermutation = np.random.permutation(4)\n",
    "\n",
    "\tbatch_error = 0\n",
    "\n",
    "\tfor datapoint in permutation:\n",
    "\t\tx = X[:, datapoint].reshape(2, 1)\n",
    "\t\tx = np.vstack(([1], x))\n",
    "\t\tlabel = y[datapoint]\n",
    "\n",
    "\t\tfor iteration in range(LEARN_TIME):\n",
    "\t\t    h = advance_state(sigmoid, h, x, Win, Wr, delta)\n",
    "\n",
    "\t\terror = 0\n",
    "\t\tfor iteration in range(READOUT_TIME):\n",
    "\t\t\th = advance_state(sigmoid, h, x, Win, Wr, delta)\n",
    "\t\t\tpredict = forward(x, Win, Wr, h)\n",
    "\t\t\tbatch_error += 2 * (predict - label) * readout_inputs(x, Win, Wr, h)\n",
    "\t\t\terrors.append(np.square(batch_error).item(0))\n",
    "\n",
    "\tW_readout = W_readout - LEARNING_RATE * batch_error / (permutation.size * READOUT_TIME)\n",
    "\n",
    "\tloss = 0\n",
    "\tfor datapoint in range(4):\n",
    "\t\tx = X[:, datapoint].reshape(2, 1)\n",
    "\t\tx = np.vstack(([1], x))\n",
    "\t\tloss += np.square(forward(x, Win, Wr, h).item(0) - y[datapoint].item(0))\n",
    "\n",
    "\tlosses.append(loss / 4)\n",
    "\n",
    "plot.plot(losses)\n",
    "plot.yscale(\"log\")\n",
    "plot.show()\n",
    "\n",
    "print(losses[-1], min(losses))\n",
    "\n",
    "for datapoint in range(4):\n",
    "\tx = X[:, datapoint].reshape(2,1)\n",
    "\tx = np.vstack(([1], x))\n",
    "\tpredict = forward(x, Win, Wr, h)\n",
    "\tprint(x, predict, threshold(predict, 0.5))"
   ],
   "metadata": {
    "collapsed": false,
    "pycharm": {
     "name": "#%%\n",
     "is_executing": false
    }
   }
  },
  {
   "cell_type": "code",
   "execution_count": 119,
   "outputs": [],
   "source": [
    "runs = []\n",
    "\n",
    "def iterate():\n",
    "\tglobal W_PLA, Win, W_readout\n",
    "\tW_PLA = np.random.random((V + 1, 1))\n",
    "\tlosses = []\n",
    "\t\n",
    "\tfor epoch in range(NUM_ITERATIONS):\n",
    "\t\tpermutation = np.random.permutation(X.shape[1])\n",
    "\t\t\n",
    "\t\tbatch_error = 0\n",
    "\t\tfor datapoint in permutation:\n",
    "\t\t\tx = X[:, datapoint].reshape(2, 1)\n",
    "\t\t\tlabel = y[datapoint]\n",
    "\t\t\t\n",
    "\t\t\tpredict = readout_forward(x, W_readout, Win)\n",
    "\t\t\tbatch_error += 2 * (predict - label) * np.vstack(([1], np.matmul(Win.transpose(), np.vstack(([1], x)))))\n",
    "\t\t\t\n",
    "\t\tW_readout = W_readout - LEARNING_RATE * batch_error / permutation.size\n",
    "\t\t\n",
    "\t\tloss = 0\n",
    "\t\tfor datapoint in range(permutation.size):\n",
    "\t\t\tx = X[:, datapoint].reshape(2, 1)\n",
    "\t\t\tloss += np.square(readout_forward(x, W_readout, Win).item(0) - y[datapoint].item(0))\n",
    "\t\n",
    "\t\tif (losses.__len__() > 0) and (loss/permutation.size > losses[-1]):\n",
    "\t\t\tlosses.append(loss / permutation.size)\n",
    "\t\t\tbreak\n",
    "\t\t\n",
    "\t\tlosses.append(loss / permutation.size)\n",
    "\t\t\n",
    "\tplot.plot(losses)\n",
    "\tplot.yscale(\"log\")\n",
    "\tplot.show()\n",
    "\n",
    "\tprint(losses[-1], min(losses))\n",
    "\t\n",
    "\terror_count = 0\n",
    "\tfor datapoint in range(4):\n",
    "\t\tx = X[:, datapoint].reshape(2,1)\n",
    "\t\tpredict = readout_forward(x, W_readout, Win)\n",
    "\t\tprint(x, predict, threshold(predict, 0.5))\n",
    "\t\tif threshold(predict, 0.5) != (x[0].item() and x[1].item()):\n",
    "\t\t\terror_count += 1\n",
    "\t\t\t\n",
    "\t# runs.append((error_count, Win, W_readout))\n",
    "\t# \n",
    "\t# plot_x = np.linspace(-0.25, 1.25, 100)\n",
    "\t# plot_y = (0.5 - W_PLA[0] - W_PLA[1] * plot_x) / W_PLA[2]\n",
    "\t# \n",
    "\t# plot.plot(plot_x, plot_y)\n",
    "\t# plot.xlim(-0.25, 1.25)\n",
    "\t# plot.ylim(-0.25, 1.25)\n",
    "\t# plot.scatter((0, 0, 1, 1), (0, 1, 0, 1), color='red')\n",
    "\t# plot.annotate((0,0), (0,0))\n",
    "\t# plot.annotate((0,1), (0,1))\n",
    "\t# plot.annotate((1,0), (1,0))\n",
    "\t# plot.annotate((1,1), (1,1))"
   ],
   "metadata": {
    "collapsed": false,
    "pycharm": {
     "name": "#%%\n",
     "is_executing": false
    }
   }
  },
  {
   "cell_type": "code",
   "execution_count": 120,
   "outputs": [],
   "source": [
    "# iterate()"
   ],
   "metadata": {
    "collapsed": false,
    "pycharm": {
     "name": "#%%\n",
     "is_executing": false
    }
   }
  }
 ],
 "metadata": {
  "kernelspec": {
   "name": "python3",
   "language": "python",
   "display_name": "Python 3"
  },
  "language_info": {
   "codemirror_mode": {
    "name": "ipython",
    "version": 2
   },
   "file_extension": ".py",
   "mimetype": "text/x-python",
   "name": "python",
   "nbconvert_exporter": "python",
   "pygments_lexer": "ipython2",
   "version": "2.7.6"
  }
 },
 "nbformat": 4,
 "nbformat_minor": 0
}