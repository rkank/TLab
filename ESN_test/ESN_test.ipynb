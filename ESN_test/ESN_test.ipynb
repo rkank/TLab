{
 "cells": [
  {
   "cell_type": "code",
   "execution_count": 355,
   "metadata": {
    "collapsed": true,
    "pycharm": {
     "is_executing": false
    }
   },
   "outputs": [],
   "source": [
    "import numpy as np\n",
    "from scipy.sparse import random\n",
    "import matplotlib.pyplot as plot"
   ]
  },
  {
   "cell_type": "code",
   "execution_count": 363,
   "outputs": [],
   "source": [
    "V = 2 # number of features\n",
    "R = 20 # size of reservoir\n",
    "LEARN_TIME = 10\n",
    "READOUT_TIME = 50\n",
    "LEARNING_RATE = 0.001\n",
    "DENSITY = 0.25\n",
    "NUM_ITERATIONS = 10\n",
    "\n",
    "Wr = random(R, R, density=DENSITY).toarray()\n",
    "# Win = random(V, R, density=DENSITY).toarray()\n",
    "Win = np.random.random((V, R))\n",
    "W_readout = np.random.random((R, 1))\n",
    "\n",
    "X = np.array([[0, 0, 1, 1], [0, 1, 0, 1]])\n",
    "h = np.random.random((R, 1))\n",
    "y = np.array([0, 0, 0, 1]) \n",
    "delta = []"
   ],
   "metadata": {
    "collapsed": false,
    "pycharm": {
     "name": "#%%\n",
     "is_executing": false
    }
   }
  },
  {
   "cell_type": "code",
   "execution_count": 357,
   "outputs": [],
   "source": [
    "def advance_state(activation_function):\n",
    "    global h, x, Win, Wr, delta\n",
    "    h_new = np.matmul(Win.transpose(), x) + np.matmul(Wr.transpose(), h)\n",
    "    h_new = activation_function(h_new)\n",
    "    delta.append(np.sum(h_new - h))\n",
    "    h = h_new"
   ],
   "metadata": {
    "collapsed": false,
    "pycharm": {
     "name": "#%%\n",
     "is_executing": false
    }
   }
  },
  {
   "cell_type": "code",
   "execution_count": 358,
   "outputs": [],
   "source": [
    "def relu(x):\n",
    "    if x > 0:\n",
    "\t    return x\n",
    "    else:\n",
    "        return 0\n",
    "    \n",
    "def linear(x):\n",
    "\treturn x\n",
    "\n",
    "def sigmoid(x):\n",
    "\treturn 1/(1 + np.exp(-x))"
   ],
   "metadata": {
    "collapsed": false,
    "pycharm": {
     "name": "#%%\n",
     "is_executing": false
    }
   }
  },
  {
   "cell_type": "code",
   "execution_count": 359,
   "outputs": [],
   "source": [
    "def forward(x):\n",
    "\tglobal Win, Wr, h\n",
    "\tpredict = np.matmul(Win.transpose(), x) + np.matmul(Wr.transpose(), h)\n",
    "\treturn np.matmul(W_readout.transpose(), predict)"
   ],
   "metadata": {
    "collapsed": false,
    "pycharm": {
     "name": "#%%\n",
     "is_executing": false
    }
   }
  },
  {
   "cell_type": "code",
   "execution_count": 364,
   "outputs": [
    {
     "name": "stderr",
     "text": [
      "warning: PYDEVD_USE_CYTHON environment variable is set to 'NO'. Frame evaluator will be also disabled because it requires Cython extensions to be enabled in order to operate correctly.\n"
     ],
     "output_type": "stream"
    },
    {
     "name": "stdout",
     "text": [
      "[1] [0] [[0.06804514]]\n",
      "[0] [1] [[0.00107384]]\n",
      "[0] [0] [[-0.00132393]]\n",
      "[1] [1] [[0.99942187]]\n",
      "[0] [0] [[0.00602126]]\n",
      "[0] [1] [[0.00039617]]\n",
      "[1] [1] [[0.99929568]]\n",
      "[1] [0] [[0.00132925]]\n",
      "[0] [0] [[0.00197696]]\n",
      "[1] [1] [[0.99942447]]\n",
      "[0] [1] [[0.00211032]]\n",
      "[1] [0] [[-0.00107779]]\n",
      "[0] [1] [[0.00094495]]\n",
      "[1] [1] [[0.99929601]]\n",
      "[1] [0] [[0.00132925]]\n",
      "[0] [0] [[0.00197696]]\n",
      "[0] [1] [[0.00038663]]\n",
      "[0] [0] [[-0.00132829]]\n",
      "[1] [0] [[-0.00064924]]\n",
      "[1] [1] [[0.99961106]]\n",
      "[0] [1] [[0.0021106]]\n",
      "[1] [1] [[0.99929672]]\n",
      "[0] [0] [[0.00602059]]\n",
      "[1] [0] [[-0.00062945]]\n",
      "[0] [0] [[0.00196424]]\n",
      "[0] [1] [[0.0003866]]\n",
      "[1] [1] [[0.99929567]]\n",
      "[1] [0] [[0.00132925]]\n",
      "[1] [0] [[2.83246139e-06]]\n",
      "[0] [0] [[0.00196834]]\n",
      "[1] [1] [[0.99942446]]\n",
      "[0] [1] [[0.00211032]]\n",
      "[0] [1] [[3.84280805e-06]]\n",
      "[0] [0] [[-0.00133071]]\n",
      "[1] [0] [[-0.00064925]]\n",
      "[1] [1] [[0.99961106]]\n",
      "[1] [0] [[0.0013298]]\n",
      "[0] [1] [[0.00094944]]\n",
      "[1] [1] [[0.99929602]]\n",
      "[0] [0] [[0.00602058]]\n",
      "[0] [0] [[0.00602058]]\n",
      "[0] [1] [[0.13040849]]\n",
      "[1] [0] [[-0.35611031]]\n",
      "[1] [1] [[-0.23172241]]\n"
     ],
     "output_type": "stream"
    }
   ],
   "source": [
    "for epoch in range(NUM_ITERATIONS):\n",
    "\tpermutation = np.random.permutation(4)\n",
    "\t\n",
    "\tfor datapoint in permutation:\n",
    "\t\tx = X[:, datapoint].reshape(2, 1)\n",
    "\t\tlabel = y[datapoint]\n",
    "\t\t\n",
    "\t\tfor iteration in range(LEARN_TIME):\n",
    "\t\t    advance_state(sigmoid)\n",
    "\n",
    "\t\t# global delta\n",
    "\t\t# fig, ax = plot.subplots()\n",
    "\t\t# ax.plot(range(delta.__len__()), delta)\n",
    "\t\t# delta = []\n",
    "\t\terrors = []\n",
    "\t\tfor iteration in range(READOUT_TIME):\n",
    "\t\t\tpredict = forward(x)\n",
    "\t\t\tW_readout = W_readout - LEARNING_RATE * 2 * (predict - label)\n",
    "\t\t\terrors.append(np.square(predict - label).item(0))\n",
    "\n",
    "\t\tpredict = forward(x)\n",
    "\t\tprint(x[0], x[1], predict)\n",
    "\n",
    "for datapoint in range(4):\n",
    "\tx = X[:, datapoint].reshape(2, 1)\n",
    "\tprint(x[0], x[1], forward(x))"
   ],
   "metadata": {
    "collapsed": false,
    "pycharm": {
     "name": "#%%\n",
     "is_executing": false
    }
   }
  },
  {
   "cell_type": "code",
   "execution_count": 361,
   "outputs": [],
   "source": [
    "def thresh(x):\n",
    "\tif x >= .5:\n",
    "\t\treturn 1\n",
    "\treturn 0"
   ],
   "metadata": {
    "collapsed": false,
    "pycharm": {
     "name": "#%%\n",
     "is_executing": false
    }
   }
  },
  {
   "cell_type": "code",
   "execution_count": 362,
   "outputs": [
    {
     "name": "stdout",
     "text": [
      "0\n",
      "0\n",
      "0\n",
      "0\n"
     ],
     "output_type": "stream"
    }
   ],
   "source": [
    "print(thresh(forward(X[:, 0].reshape(2,1))))\n",
    "print(thresh(forward(X[:, 1].reshape(2,1))))\n",
    "print(thresh(forward(X[:, 2].reshape(2,1))))\n",
    "print(thresh(forward(X[:, 3].reshape(2,1))))"
   ],
   "metadata": {
    "collapsed": false,
    "pycharm": {
     "name": "#%%\n",
     "is_executing": false
    }
   }
  }
 ],
 "metadata": {
  "kernelspec": {
   "name": "python3",
   "language": "python",
   "display_name": "Python 3"
  },
  "language_info": {
   "codemirror_mode": {
    "name": "ipython",
    "version": 2
   },
   "file_extension": ".py",
   "mimetype": "text/x-python",
   "name": "python",
   "nbconvert_exporter": "python",
   "pygments_lexer": "ipython2",
   "version": "2.7.6"
  },
  "pycharm": {
   "stem_cell": {
    "cell_type": "raw",
    "source": [],
    "metadata": {
     "collapsed": false
    }
   }
  }
 },
 "nbformat": 4,
 "nbformat_minor": 0
}