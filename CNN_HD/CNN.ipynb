{
 "cells": [
  {
   "cell_type": "code",
   "execution_count": 25,
   "outputs": [
    {
     "name": "stdout",
     "output_type": "stream",
     "text": [
      "cuda\n"
     ]
    }
   ],
   "source": [
    "import torch\n",
    "from torch.utils.data import DataLoader\n",
    "import torch.nn as nn\n",
    "from torchvision import transforms, datasets\n",
    "import pytorch_lightning as pl\n",
    "from pytorch_lightning.metrics import Accuracy\n",
    "import matplotlib.pyplot as plt\n",
    "\n",
    "device = torch.device(\"cuda\" if torch.cuda.is_available() else \"cpu\")\n",
    "print(device)"
   ],
   "metadata": {
    "collapsed": false,
    "pycharm": {
     "name": "#%%\n"
    }
   }
  },
  {
   "cell_type": "code",
   "execution_count": 26,
   "outputs": [],
   "source": [
    "class CNN_HD(pl.LightningModule):\n",
    "\n",
    "\tdef __init__(self):\n",
    "\t\tsuper().__init__()\n",
    "\t\tself.convs = nn.Sequential(nn.Conv2d(in_channels=1, out_channels=6, kernel_size=5, stride=1, padding=2, bias=True),\n",
    "\t\t                           nn.ReLU(),\n",
    "\t\t                           nn.MaxPool2d(kernel_size=2),\n",
    "\t\t                           nn.Conv2d(in_channels=6, out_channels=16, kernel_size=5, stride=1, padding=0, bias=True),\n",
    "\t\t                           nn.ReLU(),\n",
    "\t\t                           nn.MaxPool2d(kernel_size=2, stride=2))\n",
    "\t\tself.fc = nn.Sequential(nn.Linear(16*5*5, 120),\n",
    "\t\t                        nn.ReLU(),\n",
    "\t\t\t\t\t\t\t\tnn.Linear(120, 84),\n",
    "\t\t                        nn.ReLU(),\n",
    "\t\t\t\t\t\t\t\tnn.Linear(84, 10))\n",
    "\t\tself.loss_fn = nn.CrossEntropyLoss()\n",
    "\t\tself.accuracy = 0\n",
    "\t\tself.size = 0\n",
    "\n",
    "\tdef forward(self, img):\n",
    "\t\tx = self.convs(img)\n",
    "\t\tx = x.view(-1, 16*5*5)\n",
    "\t\tx = self.fc(x)\n",
    "\t\treturn x\n",
    "\n",
    "\tdef configure_optimizers(self):\n",
    "\t\toptimizer = torch.optim.Adam(self.parameters(), lr=1e-3)\n",
    "\t\treturn optimizer\n",
    "\n",
    "\tdef training_step(self, batch, batch_idx):\n",
    "\t\timgs, labels = batch\n",
    "\t\tpredictions = self(imgs)\n",
    "\t\tloss = self.loss_fn(predictions, labels)\n",
    "\t\tresult = pl.TrainResult(loss)\n",
    "\t\tresult.log('train_loss', loss, prog_bar=True)\n",
    "\t\treturn result\n",
    "\n",
    "\tdef test_step(self, batch, batch_idx):\n",
    "\t\timgs, labels = batch\n",
    "\t\tpredictions = self(imgs)\n",
    "\t\tloss = Accuracy(predictions, labels)\n",
    "\t\tresult = pl.EvalResult(loss)\n",
    "\t\tresult.log('test_loss', loss)\n",
    "\t\treturn result"
   ],
   "metadata": {
    "collapsed": false,
    "pycharm": {
     "name": "#%%\n"
    }
   }
  },
  {
   "cell_type": "code",
   "execution_count": 27,
   "outputs": [
    {
     "name": "stderr",
     "output_type": "stream",
     "text": [
      "GPU available: True, used: True\n",
      "TPU available: False, using: 0 TPU cores\n",
      "CUDA_VISIBLE_DEVICES: [0]\n"
     ]
    }
   ],
   "source": [
    "train_dataset = datasets.MNIST('../data', train=True, download=False,\n",
    "                       transform=transforms.Compose([\n",
    "                           transforms.ToTensor(),\n",
    "                           transforms.Normalize((0.1307,), (0.3081,))\n",
    "                       ]))\n",
    "\n",
    "test_dataset = datasets.MNIST('../data', train=False, download=False,\n",
    "                        transform=transforms.Compose([\n",
    "                           transforms.ToTensor(),\n",
    "                           transforms.Normalize((0.1307,), (0.3081,))\n",
    "                       ]))\n",
    "\n",
    "train_loader = DataLoader(train_dataset, batch_size=100, shuffle=True, num_workers=8)\n",
    "test_loader = DataLoader(test_dataset, batch_size=1, shuffle=False)\n",
    "\n",
    "model = CNN_HD()\n",
    "trainer = pl.Trainer(gpus=1, benchmark=True, max_epochs=5)"
   ],
   "metadata": {
    "collapsed": false,
    "pycharm": {
     "name": "#%%\n"
    }
   }
  },
  {
   "cell_type": "code",
   "execution_count": 28,
   "outputs": [
    {
     "name": "stderr",
     "output_type": "stream",
     "text": [
      "\n",
      "  | Name    | Type             | Params\n",
      "---------------------------------------------\n",
      "0 | convs   | Sequential       | 2 K   \n",
      "1 | fc      | Sequential       | 59 K  \n",
      "2 | loss_fn | CrossEntropyLoss | 0     \n",
      "Saving latest checkpoint..\n"
     ]
    },
    {
     "name": "stdout",
     "output_type": "stream",
     "text": [
      "Epoch 9: 100%|██████████| 600/600 [00:05<00:00, 102.60it/s, loss=0.011, v_num=10, train_loss=0.00219] \n"
     ]
    },
    {
     "data": {
      "text/plain": "1"
     },
     "execution_count": 28,
     "metadata": {},
     "output_type": "execute_result"
    }
   ],
   "source": [
    "trainer.fit(model, train_loader)"
   ],
   "metadata": {
    "collapsed": false,
    "pycharm": {
     "name": "#%%\n"
    }
   }
  },
  {
   "cell_type": "code",
   "execution_count": 29,
   "outputs": [
    {
     "name": "stdout",
     "output_type": "stream",
     "text": [
      "Testing:  99%|█████████▉| 9933/10000 [00:10<00:00, 883.58it/s] --------------------------------------------------------------------------------\n",
      "DATALOADER:0 TEST RESULTS\n",
      "{'test_loss': tensor(0.0356, device='cuda:0')}\n",
      "--------------------------------------------------------------------------------\n",
      "Testing: 100%|██████████| 10000/10000 [00:11<00:00, 906.13it/s]\n"
     ]
    }
   ],
   "source": [
    "result = trainer.test(model, test_loader)\n"
   ],
   "metadata": {
    "collapsed": false,
    "pycharm": {
     "name": "#%%\n"
    }
   }
  }
 ],
 "metadata": {
  "kernelspec": {
   "display_name": "Python 3.7.7 64-bit ('EE510': conda)",
   "language": "python",
   "name": "python37764bitee510conda9b4d5e23258e4fc6a2acfc7a8363fa08"
  },
  "language_info": {
   "codemirror_mode": {
    "name": "ipython",
    "version": 2
   },
   "file_extension": ".py",
   "mimetype": "text/x-python",
   "name": "python",
   "nbconvert_exporter": "python",
   "pygments_lexer": "ipython2",
   "version": "3.7.7-final"
  }
 },
 "nbformat": 4,
 "nbformat_minor": 0
}