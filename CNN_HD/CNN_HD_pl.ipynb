{
 "cells": [
  {
   "cell_type": "code",
   "execution_count": 1,
   "metadata": {
    "collapsed": true
   },
   "outputs": [
    {
     "name": "stderr",
     "output_type": "stream",
     "text": [
      "C:\\Users\\ruchi\\Anaconda3\\envs\\EE510\\lib\\site-packages\\pytorch_lightning\\utilities\\distributed.py:37: UserWarning: Unsupported `ReduceOp` for distributed computing.\n",
      "  warnings.warn(*args, **kwargs)\n"
     ]
    }
   ],
   "source": [
    "import sys\n",
    "import torch\n",
    "import numpy as np\n",
    "from torch.utils.data import DataLoader\n",
    "import torch.nn as nn\n",
    "from torchvision import transforms, datasets\n",
    "import pytorch_lightning as pl\n",
    "from tqdm.notebook import trange, tqdm\n",
    "import matplotlib.pyplot as plt\n",
    "\n",
    "sys.path.insert(1, 'C:\\\\Users\\\\ruchi\\\\Desktop\\\\Research\\\\TLab\\\\HyperDimensional\\\\Tools')\n",
    "\n",
    "import HDComputing as hdc\n",
    "\n",
    "device = torch.device(\"cuda\" if torch.cuda.is_available() else \"cpu\")"
   ]
  },
  {
   "cell_type": "code",
   "execution_count": 2,
   "outputs": [],
   "source": [
    "class HDCodec(nn.Module):\n",
    "\tdef __init__(self):\n",
    "\t\tsuper().__init__()\n",
    "\n",
    "\t\tenc = {'record': {'N': 400, 'M': 50, 'range': (-0.25, 0.25)}}\n",
    "\t\tself.space = hdc.Hyperspace(rep=hdc.BSCVector, dim=10000, enc=enc)\n",
    "\n",
    "\tdef forward(self, x, batch_labels):\n",
    "\t\tfeature_list = x.detach().cpu().numpy()\n",
    "\n",
    "\t\tfor num in range(100):\n",
    "\t\t\tlabel = str(batch_labels[num].item())\n",
    "\t\t\tfeatures = feature_list[num]\n",
    "\n",
    "\t\t\tself.space.add(name=label, features=features)\n",
    "\n",
    "\t\treturn x\n",
    "\n",
    "\n",
    "class CNN_HD(pl.LightningModule):\n",
    "\n",
    "\tdef __init__(self):\n",
    "\t\tsuper().__init__()\n",
    "\t\tself.convs = nn.Sequential(nn.Conv2d(in_channels=1, out_channels=6, kernel_size=5, stride=1, padding=2, bias=True),\n",
    "\t\t                           nn.ReLU(),\n",
    "\t\t                           nn.MaxPool2d(kernel_size=2),\n",
    "\t\t                           nn.Conv2d(in_channels=6, out_channels=16, kernel_size=5, stride=1, padding=0, bias=True),\n",
    "\t\t                           nn.ReLU(),\n",
    "\t\t                           nn.MaxPool2d(kernel_size=2, stride=2))\n",
    "\t\tself.fc = nn.Sequential(nn.Linear(16*5*5, 120),\n",
    "\t\t                        nn.ReLU(),\n",
    "\t\t\t\t\t\t\t\tnn.Linear(120, 84),\n",
    "\t\t                        nn.ReLU(),\n",
    "\t\t\t\t\t\t\t\tnn.Linear(84, 10))\n",
    "\t\tself.codec = HDCodec()\n",
    "\t\tself.loss_fn = nn.CrossEntropyLoss()\n",
    "\n",
    "\tdef forward(self, img, label, epoch_idx):\n",
    "\t\tx = self.convs(img)\n",
    "\t\tx = x.view(-1, 16*5*5)\n",
    "\t\tx = self.codec(x, label, epoch_idx)\n",
    "\t\tx = self.fc(x)\n",
    "\t\treturn x\n",
    "\n",
    "\tdef configure_optimizers(self):\n",
    "\t\toptimizer = torch.optim.Adam(self.parameters(), lr=1e-3)\n",
    "\t\treturn optimizer\n",
    "\n",
    "\tdef training_step(self, batch, batch_idx):\n",
    "\t\timgs, labels = batch\n",
    "\t\tpredictions = self(imgs, labels)\n",
    "\t\tloss = self.loss_fn(predictions, labels)\n",
    "\t\tresult = pl.TrainResult(loss)\n",
    "\t\tresult.log('train_loss', loss, prog_bar=True)\n",
    "\t\treturn result"
   ],
   "metadata": {
    "collapsed": false,
    "pycharm": {
     "name": "#%%\n"
    }
   }
  },
  {
   "cell_type": "code",
   "execution_count": 3,
   "outputs": [
    {
     "name": "stderr",
     "output_type": "stream",
     "text": [
      "GPU available: True, used: True\n",
      "TPU available: False, using: 0 TPU cores\n",
      "CUDA_VISIBLE_DEVICES: [0]\n"
     ]
    }
   ],
   "source": [
    "train_dataset = datasets.MNIST('../data', train=True, download=False,\n",
    "                       transform=transforms.Compose([\n",
    "                           transforms.ToTensor(),\n",
    "                           transforms.Normalize((0.1307,), (0.3081,))\n",
    "                       ]))\n",
    "\n",
    "test_dataset = datasets.MNIST('../data', train=False, download=False,\n",
    "                        transform=transforms.Compose([\n",
    "                           transforms.ToTensor(),\n",
    "                           transforms.Normalize((0.1307,), (0.3081,))\n",
    "                       ]))\n",
    "\n",
    "train_loader = DataLoader(train_dataset, batch_size=100, shuffle=True, num_workers=8)\n",
    "test_loader = DataLoader(test_dataset, batch_size=1, shuffle=True)\n",
    "\n",
    "model = CNN_HD()\n",
    "trainer = pl.Trainer(gpus=1, benchmark=True, max_epochs=10)"
   ],
   "metadata": {
    "collapsed": false,
    "pycharm": {
     "name": "#%%\n"
    }
   }
  },
  {
   "cell_type": "code",
   "execution_count": 4,
   "outputs": [
    {
     "name": "stderr",
     "output_type": "stream",
     "text": [
      "C:\\Users\\ruchi\\Anaconda3\\envs\\EE510\\lib\\site-packages\\pytorch_lightning\\utilities\\distributed.py:37: UserWarning: Could not log computational graph since the `model.example_input_array` attribute is not set or `input_array` was not given\n",
      "  warnings.warn(*args, **kwargs)\n",
      "\n",
      "  | Name    | Type             | Params\n",
      "---------------------------------------------\n",
      "0 | convs   | Sequential       | 2 K   \n",
      "1 | fc      | Sequential       | 59 K  \n",
      "2 | codec   | HDCodec          | 0     \n",
      "3 | loss_fn | CrossEntropyLoss | 0     \n",
      "Saving latest checkpoint..\n"
     ]
    },
    {
     "data": {
      "text/plain": "HBox(children=(FloatProgress(value=1.0, bar_style='info', description='Training', layout=Layout(flex='2'), max…",
      "application/vnd.jupyter.widget-view+json": {
       "version_major": 2,
       "version_minor": 0,
       "model_id": "f053f9445bd74d3ea66f7fc75f4df91f"
      }
     },
     "metadata": {},
     "output_type": "display_data"
    },
    {
     "name": "stdout",
     "output_type": "stream",
     "text": [
      "\n"
     ]
    },
    {
     "data": {
      "text/plain": "1"
     },
     "execution_count": 4,
     "metadata": {},
     "output_type": "execute_result"
    }
   ],
   "source": [
    "trainer.fit(model, train_loader)"
   ],
   "metadata": {
    "collapsed": false,
    "pycharm": {
     "name": "#%%\n"
    }
   }
  }
 ],
 "metadata": {
  "kernelspec": {
   "display_name": "Python 3",
   "language": "python",
   "name": "python3"
  },
  "language_info": {
   "codemirror_mode": {
    "name": "ipython",
    "version": 2
   },
   "file_extension": ".py",
   "mimetype": "text/x-python",
   "name": "python",
   "nbconvert_exporter": "python",
   "pygments_lexer": "ipython2",
   "version": "2.7.6"
  }
 },
 "nbformat": 4,
 "nbformat_minor": 0
}