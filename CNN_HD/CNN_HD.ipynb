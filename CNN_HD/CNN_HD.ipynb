{
 "cells": [
  {
   "cell_type": "code",
   "execution_count": 1,
   "metadata": {
    "pycharm": {
     "name": "#%%\n"
    }
   },
   "outputs": [],
   "source": [
    "import sys\n",
    "import torch\n",
    "import numpy as np\n",
    "from torch.utils.data import DataLoader\n",
    "import torch.nn as nn\n",
    "from torchvision import transforms, datasets\n",
    "from ignite.engine import Events, create_supervised_trainer, create_supervised_evaluator\n",
    "from ignite.metrics import Accuracy, Loss\n",
    "from tqdm.notebook import trange, tqdm\n",
    "import matplotlib.pyplot as plt\n",
    "\n",
    "sys.path.insert(1, 'C:\\\\Users\\\\ruchi\\\\Desktop\\\\Research\\\\TLab\\\\HyperDimensional\\\\Tools')\n",
    "\n",
    "import HDComputing as hdc\n",
    "\n",
    "device = torch.device(\"cuda\" if torch.cuda.is_available() else \"cpu\")"
   ]
  },
  {
   "cell_type": "code",
   "execution_count": 2,
   "metadata": {
    "pycharm": {
     "name": "#%%\n"
    }
   },
   "outputs": [],
   "source": [
    "NUM_EPOCHS = 1\n",
    "batch_size = 128"
   ]
  },
  {
   "cell_type": "code",
   "execution_count": 3,
   "metadata": {
    "pycharm": {
     "name": "#%%\n"
    }
   },
   "outputs": [],
   "source": [
    "class HDCodec(nn.Module):\n",
    "\tdef __init__(self):\n",
    "\t\tsuper().__init__()\n",
    "\n",
    "\t\tenc = {'record': {'N': 400, 'M': 50, 'range': (-0.25, 0.25)}}\n",
    "\t\tself.spaces = []\n",
    "\n",
    "\t\tfor epoch_num in range(5):\n",
    "\t\t\tself.spaces.append(hdc.Hyperspace(rep=hdc.BSCVector, dim=10000, enc=enc))\n",
    "\n",
    "\tdef forward(self, x, batch_labels, epoch_num):\n",
    "\t\tfeature_list = x.detach().cpu().numpy()\n",
    "\n",
    "\t\tfor num in range(feature_list.shape[0]):\n",
    "\t\t\tlabel = str(batch_labels[num].item())\n",
    "\t\t\tfeatures = feature_list[num]\n",
    "\n",
    "\t\t\tspace_num = 0\n",
    "\t\t\twhile space_num <= epoch_num:\n",
    "\t\t\t\tself.spaces[space_num].add(name=label, features=features)\n",
    "\t\t\t\tspace_num += 1\n",
    "\n",
    "\t\treturn x\n",
    "\n",
    "class LeNet5(nn.Module):\n",
    "\tdef __init__(self):\n",
    "\t\tsuper().__init__()\n",
    "\n",
    "\t\tself.convs = nn.Sequential(nn.Conv2d(in_channels=1, out_channels=6, kernel_size=5, stride=1, padding=2, bias=True),\n",
    "\t\t                           nn.ReLU(),\n",
    "\t\t                           nn.MaxPool2d(kernel_size=2),\n",
    "\t\t                           nn.Conv2d(in_channels=6, out_channels=16, kernel_size=5, stride=1, padding=0, bias=True),\n",
    "\t\t                           nn.ReLU(),\n",
    "\t\t                           nn.MaxPool2d(kernel_size=2, stride=2))\n",
    "\t\tself.fc = nn.Sequential(nn.Linear(16*5*5, 120),\n",
    "\t\t                        nn.ReLU(),\n",
    "\t\t\t\t\t\t\t\tnn.Linear(120, 84),\n",
    "\t\t                        nn.ReLU(),\n",
    "\t\t\t\t\t\t\t\tnn.Linear(84, 10))\n",
    "\n",
    "\t\tself.codec = HDCodec()\n",
    "\n",
    "\n",
    "\tdef forward(self, img, label, epoch_num):\n",
    "\t\tx = self.convs(img)\n",
    "\t\tx = x.view(-1, 16*5*5)\n",
    "\t\tx = self.codec(x, label, epoch_num)\n",
    "\t\tx = self.fc(x)\n",
    "\n",
    "\t\treturn x"
   ]
  },
  {
   "cell_type": "code",
   "execution_count": 4,
   "metadata": {
    "pycharm": {
     "name": "#%%\n"
    }
   },
   "outputs": [],
   "source": [
    "train_dataset = datasets.MNIST('../data', train=True, download=False,\n",
    "                       transform=transforms.Compose([\n",
    "                           transforms.ToTensor(),\n",
    "                           transforms.Normalize((0.1307,), (0.3081,))\n",
    "                       ]))\n",
    "\n",
    "test_dataset = datasets.MNIST('../data', train=False, download=False,\n",
    "                        transform=transforms.Compose([\n",
    "                           transforms.ToTensor(),\n",
    "                           transforms.Normalize((0.1307,), (0.3081,))\n",
    "                       ]))\n",
    "\n",
    "train_loader = DataLoader(train_dataset, batch_size=batch_size, shuffle=True, num_workers=8)\n",
    "test_loader = DataLoader(test_dataset, batch_size=1, shuffle=True)"
   ]
  },
  {
   "cell_type": "code",
   "execution_count": 5,
   "metadata": {
    "pycharm": {
     "name": "#%%\n"
    }
   },
   "outputs": [],
   "source": [
    "\n",
    "model = LeNet5().to(device)\n",
    "criterion = nn.CrossEntropyLoss()\n",
    "optimizer = torch.optim.Adam(model.parameters(), lr=0.001)\n",
    "scheduler = torch.optim.lr_scheduler.ReduceLROnPlateau(optimizer)"
   ]
  },
  {
   "cell_type": "code",
   "execution_count": null,
   "metadata": {
    "pycharm": {
     "name": "#%%\n"
    }
   },
   "outputs": [
    {
     "data": {
      "application/vnd.jupyter.widget-view+json": {
       "model_id": "b6576c5341bb4735b345721802910c1b",
       "version_major": 2,
       "version_minor": 0
      },
      "text/plain": [
       "HBox(children=(FloatProgress(value=0.0, max=1.0), HTML(value='')))"
      ]
     },
     "metadata": {},
     "output_type": "display_data"
    },
    {
     "data": {
      "application/vnd.jupyter.widget-view+json": {
       "model_id": "ca2407c542b448d88cfe3a7273f714d2",
       "version_major": 2,
       "version_minor": 0
      },
      "text/plain": [
       "HBox(children=(FloatProgress(value=0.0, max=469.0), HTML(value='')))"
      ]
     },
     "metadata": {},
     "output_type": "display_data"
    }
   ],
   "source": [
    "epoch_losses = []\n",
    "model.train()\n",
    "\n",
    "for epoch in trange(NUM_EPOCHS):\n",
    "\tepoch_loss = 0\n",
    "\tnum_batches = 0\n",
    "\n",
    "\tfor batch_num, (data, labels) in enumerate(tqdm(train_loader)):\n",
    "\t\tdata, labels = data.to(device), labels.to(device)\n",
    "\t\toutputs = model(data, labels, epoch)\n",
    "\t\tbatch_loss = criterion(outputs, labels)\n",
    "\n",
    "\t\toptimizer.zero_grad()\n",
    "\t\tbatch_loss.backward()\n",
    "\t\tepoch_loss += batch_loss.detach().cpu().data\n",
    "\t\tnum_batches += 1\n",
    "\n",
    "\t\toptimizer.step()\n",
    "\n",
    "\tscheduler.step(epoch_loss / num_batches)\n",
    "\n",
    "\tepoch_losses.append(epoch_loss / num_batches)\n",
    "\n",
    "\ttorch.save({\n",
    "\t\t'epoch': epoch,\n",
    "\t\t'model_state_dict': model.state_dict(),\n",
    "\t\t'optimizer_state_dict': optimizer.state_dict(),\n",
    "\t\t'loss': epoch_losses[-1],\n",
    "\t}, 'model.ckpt')\n",
    "\n",
    "\tprint(\"epoch: \", epoch, \", loss: \", epoch_loss / num_batches)"
   ]
  },
  {
   "cell_type": "code",
   "execution_count": null,
   "metadata": {
    "pycharm": {
     "name": "#%%\n"
    }
   },
   "outputs": [],
   "source": [
    "# ranges = np.empty(shape=(10, 60000, 2))\n",
    "#\n",
    "# for exp_num in trange(10):\n",
    "# \tfor batch_num, (img, labels) in enumerate(train_loader):\n",
    "# \t\timg, labels = img.to(device), labels.to(device)\n",
    "# \t\toutput = model(img)\n",
    "# \t\toutput = output.cpu().detach().numpy()\n",
    "# \t\tranges[exp_num][batch_num][0] = output.min()\n",
    "# \t\tranges[exp_num][batch_num][1] = output.max()\n",
    "#"
   ]
  },
  {
   "cell_type": "code",
   "execution_count": null,
   "metadata": {
    "pycharm": {
     "name": "#%%\n"
    }
   },
   "outputs": [],
   "source": [
    "# print(ranges.min(), ranges.max())\n",
    "#"
   ]
  },
  {
   "cell_type": "code",
   "execution_count": null,
   "metadata": {
    "pycharm": {
     "name": "#%%\n"
    }
   },
   "outputs": [],
   "source": [
    "# num_features = 10\n",
    "# M = 50\n",
    "# encoding = {'N': num_features, 'M': M, 'range': (-1, 1)}\n",
    "# features = 2 * np.random.random(size=num_features) - 1\n",
    "# id_vecs, level_vecs, encoded_vec, level_dict = hdc.record_encode(dim=10000, rep=hdc.BSCVector, enc=encoding, features=features)\n",
    "#\n",
    "# space = hdc.Hyperspace(rep=hdc.BSCVector)\n",
    "#\n",
    "# for num in range(M):\n",
    "# \tspace.insert(v=level_vecs[num], name=str(encoding['range'][0] + num * (encoding['range'][1] - encoding['range'][0]) / encoding['M']))\n",
    "#"
   ]
  },
  {
   "cell_type": "code",
   "execution_count": null,
   "metadata": {
    "pycharm": {
     "name": "#%%\n"
    }
   },
   "outputs": [],
   "source": [
    "# encoded_vec.value = encoded_vec.value.astype(dtype=np.int32)\n",
    "# de_encoded = np.empty(shape=(num_features, 1))\n",
    "#\n",
    "# for num in range(num_features):\n",
    "# \tlevel_vec = id_vecs[num] * encoded_vec\n",
    "# \tde_encoded[num] = space.query(level_vec)[0]\n",
    "#"
   ]
  },
  {
   "cell_type": "code",
   "execution_count": null,
   "metadata": {
    "pycharm": {
     "name": "#%%\n"
    }
   },
   "outputs": [],
   "source": [
    "# for num in range(num_features):\n",
    "# \tprint(str(num) + ':')\n",
    "# \tlevel_vec = id_vecs[num] * encoded_vec\n",
    "# \tfor key in level_dict.keys():\n",
    "# \t\tprint(str(key) + ': ' + str(level_vec | level_dict[key]))\n",
    "# \tprint('\\n')\n",
    "#"
   ]
  },
  {
   "cell_type": "code",
   "execution_count": null,
   "metadata": {
    "pycharm": {
     "name": "#%%\n"
    }
   },
   "outputs": [],
   "source": [
    "# features = features.reshape((num_features,1))\n",
    "# diff = de_encoded - features\n",
    "# print(diff.std())\n",
    "#"
   ]
  },
  {
   "cell_type": "code",
   "execution_count": null,
   "metadata": {
    "pycharm": {
     "name": "#%%\n"
    }
   },
   "outputs": [],
   "source": [
    "# encd = hdc.BSCVector(dim=10000, empty=True)\n",
    "#\n",
    "# for num, feature in enumerate(features):\n",
    "# \tfor (low, high) in level_dict:\n",
    "# \t\tif low <= feature <= high:\n",
    "# \t\t\tencd = encd + (id_vecs[num] * level_dict[(low, high)])\n",
    "#\n",
    "# encd == encoded_vec"
   ]
  }
 ],
 "metadata": {
  "kernelspec": {
   "display_name": "Python 3",
   "language": "python",
   "name": "python3"
  },
  "language_info": {
   "codemirror_mode": {
    "name": "ipython",
    "version": 3
   },
   "file_extension": ".py",
   "mimetype": "text/x-python",
   "name": "python",
   "nbconvert_exporter": "python",
   "pygments_lexer": "ipython3",
   "version": "3.7.7"
  }
 },
 "nbformat": 4,
 "nbformat_minor": 1
}